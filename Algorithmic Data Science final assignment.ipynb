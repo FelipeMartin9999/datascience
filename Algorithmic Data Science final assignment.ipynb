{
 "cells": [
  {
   "cell_type": "markdown",
   "id": "cf31f698",
   "metadata": {},
   "source": [
    "# 969G5: Algorithmic Data Science Report T1 Week 11"
   ]
  },
  {
   "cell_type": "markdown",
   "id": "a0cbb00d",
   "metadata": {},
   "source": [
    "Felipe Martín CandNo: 260774"
   ]
  },
  {
   "cell_type": "markdown",
   "id": "1418ab27",
   "metadata": {},
   "source": [
    "## Contents:\n",
    "* [Introduction](#first-bullet)\n",
    "* [Automatic document generation](#inter-bullet) \n",
    "* [Running time analysis for Jaccard's Similarity](#second-bullet)\n",
    "* [Running time worst case analysis for Cosine Similarity](#third-bullet)\n",
    "* [Running time analysis for Cosine Similarity from sparse representation](#fourth-bullet)\n",
    "* [Running time analysis for All-pairs Similarity](#fifth-bullet)\n",
    "* [All-pairs Similarity using MapReduce](#six-bullet)\n"
   ]
  },
  {
   "cell_type": "markdown",
   "id": "541fa01e",
   "metadata": {},
   "source": [
    "# Introduction <a class=\"anchor\" id=\"first-bullet\"></a>"
   ]
  },
  {
   "cell_type": "markdown",
   "id": "7256bbfa",
   "metadata": {},
   "source": [
    "The report explores the different similarity algorithms, starting with an analysis of Jaccard runtime time and then cosine similarity, comparing the use of cosine similarity with vectors, sparse and using a numpy function.\n",
    "\n",
    "First, we analyze what is the worst theoretical runtime of the Jaccard similarity measure applied to documents represented as bags of words.Then, we analyze what is the worst-case theoretical runtime of the cosine similarity measure applied to documents represented as dense vectors to estimate the constant. In this situation, he dot product implementation in numpy with my own implementation were compared\n",
    "\n",
    "After examining the two similarities, we analyze that the cosine similarity directly computes documents from sparse dictionary representations. \n",
    "In question 4 we perform the computation considering all pairs in a document collection. We examine what the theoretical worst-case execution time is to compute the similarities of all pairs and provide an estimate of the time it would take to compute the similarities of all pairs of 200,000 documents for all measures.\n",
    "\n",
    "Finally, for question 5, we have to use the map-reduce computing paradigm to implement a parallel version of all-pair similarities for documents and test it.\n",
    "\n",
    "The following scenario should be considered:"
   ]
  },
  {
   "cell_type": "markdown",
   "id": "23b0ceb7",
   "metadata": {},
   "source": [
    "Imagine, you have a collection of d (d > 10) documents each containing at least w (w > 50) English words. For testing purposes, you may wish to construct or collect such a collection. A document can be represented as a bag-of-words, i.e., as the set of the words it contains together with associated frequencies. This is most naturally stored using a Python dictionary - and this is called a sparse representation of the data. Alternatively, the dictionary can be converted to a  vector (e.g., a numpy array) where there is a dimension for each of the V words in the English vocabulary. This is called a dense representation."
   ]
  },
  {
   "cell_type": "markdown",
   "id": "d79dd07f",
   "metadata": {},
   "source": [
    "# Automatic document generation  <a class=\"anchor\" id=\"inter-bullet\"></a>"
   ]
  },
  {
   "cell_type": "markdown",
   "id": "88aa7012",
   "metadata": {},
   "source": [
    "We use the essential-generators library to create documents automatically."
   ]
  },
  {
   "cell_type": "code",
   "execution_count": 1,
   "id": "1bf5436a",
   "metadata": {},
   "outputs": [
    {
     "name": "stdout",
     "output_type": "stream",
     "text": [
      "Requirement already satisfied: essential-generators in c:\\users\\felipemartin\\anaconda3\\lib\\site-packages (1.0)\n"
     ]
    }
   ],
   "source": [
    "!pip install essential-generators"
   ]
  },
  {
   "cell_type": "code",
   "execution_count": 2,
   "id": "b9cde346",
   "metadata": {},
   "outputs": [],
   "source": [
    "from essential_generators import DocumentGenerator\n",
    "from nltk.tokenize import word_tokenize\n",
    "import scipy.stats as stats\n",
    "import matplotlib.pyplot as plt\n",
    "from collections import defaultdict\n",
    "from multiprocessing import Pool\n",
    "import time"
   ]
  },
  {
   "cell_type": "markdown",
   "id": "7a6ccc5a",
   "metadata": {},
   "source": [
    "The first thing we do is to automate the document creation process, in order to make it easier to create documents of different lengths in runtime tests.\n",
    "\n",
    "The following function creates a document of n paragraph. Each paragrah is between 50 and 100 words, this fulfills the requirement that the document must have at least 50 words."
   ]
  },
  {
   "cell_type": "code",
   "execution_count": 3,
   "id": "6006b81c",
   "metadata": {},
   "outputs": [],
   "source": [
    "from essential_generators import DocumentGenerator\n",
    "gen = DocumentGenerator()\n",
    "gen.init_word_cache(5000) #words cache\n",
    "\n",
    "def document(n): # n = number of paragraphs\n",
    "    doc=''\n",
    "    for i in range(n):\n",
    "        doc=gen.paragraph()+''+doc\n",
    "    return doc\n"
   ]
  },
  {
   "cell_type": "markdown",
   "id": "d2f71b2d",
   "metadata": {},
   "source": [
    "We create a 3 paragraph document for testing the function"
   ]
  },
  {
   "cell_type": "code",
   "execution_count": 4,
   "id": "9d1dbeb8",
   "metadata": {},
   "outputs": [
    {
     "data": {
      "text/plain": [
       "'4 × common that a subject\\'s conscious. Since this a private health insurance system that are executed directly on their. Carrabba\\'s, fleming\\'s of weapons and there is some plant. Runs through on recursively computable martingales. it is also home to such. Other symbolic 3,730 m (12,240 ft), or close to five deaths. Who spread nine years. Mountain lakes kitsap peninsula. \\n according to u.s. census bureau survey showed. 76 °f troubled past. the impact of these definitions have. Intentional neglect although arabic and middle-eastern countries increased only at a site. Physics, an cplp, and the seventh wealthiest developed nation in the. Marine climate habitat destruction.. The dramatic interest them. most. Those surrounding and ethiopia dating from bismarck\\'s social legislation of the finest medical.Nevada. america\\'s law comprises. Football. egypt state constitutional protection to remain strong thanks to the. 75 percent. paved roads increased from 25,000 to 365,000 t. Find amusing human automaton described in the central business district. atlanta is the. The autobahnen colonial possessions in africa preceded agriculture and settlement; dams. Take several languages (1gl). the next oldest possible animal fossils are known as. Behavior, which eroded the dominance hierarchy.. De mendoza jaw, cats have slit pupils. these slit pupils.78, mostly axial rotations are. Flux by including if. A press 5,540 acres. Scholars from as silver vine (actinidia polygama) and the. Text and between a continent and several near-hangings.. To designated locro are considered of \"outstanding universal value\" based on herbalism, the. Isbn 978-0-13-175553-6. achieved global fame. nowadays, singer. Repulsion model income and existing population density.. And catches create a sound that had discontinued it. Montague demonstrated 1⁄900 of that party. at. The server million figure excludes people staying less than. Sites, including (1,113.96 km2) of school trust land. Inadequate personnel bank notes. the bank does not decrease due to colonization..'"
      ]
     },
     "execution_count": 4,
     "metadata": {},
     "output_type": "execute_result"
    }
   ],
   "source": [
    "document(3)"
   ]
  },
  {
   "cell_type": "markdown",
   "id": "3349d672",
   "metadata": {},
   "source": [
    "Next, we create a function to generate a list of documents, using the previous function, we add the parameter size, which indicates the size of the list or number of documents."
   ]
  },
  {
   "cell_type": "code",
   "execution_count": 4,
   "id": "c5cdf796",
   "metadata": {},
   "outputs": [],
   "source": [
    "def list_of_documents(size,n): # n = number of paragraphs of each document\n",
    "                               # size= number of documents\n",
    "    docs=[]\n",
    "    for i in range(size):\n",
    "        doc=document(n)\n",
    "        docs.append(doc)\n",
    "    return docs\n",
    "    "
   ]
  },
  {
   "cell_type": "markdown",
   "id": "e73c6230",
   "metadata": {},
   "source": [
    "For example, if we want to create a list of 2 documents and each document of 3 paragraphs (at least 150 words), it would be:"
   ]
  },
  {
   "cell_type": "code",
   "execution_count": 6,
   "id": "7530026c",
   "metadata": {},
   "outputs": [
    {
     "data": {
      "text/plain": [
       "[\"Park. although protocol information. Orientation. diagnosis generate a narrower line of chemical formula.. Urticaria, sunburn, muromachi period. For food, and belgium lie to the. Observations should also discover. The desolate undiscovered, technically recoverable gas. System, into may sacrifice reporters in distant news bureaus, reduce the number of. Programming, any was perceived as sensationalist.All-knowing but system defines how and when the user has when using a specific team. Example, american cirrostratus nebulosus has a significant load to. Earliest civilizations. also offered. Honeycomb, with nebulosus whose uniform structures prevent. Physics. \\n occupied and is more common in the. Lows that rebound, and are effectively self-governing in 1964, while. Song dynasty and commonwealth led to an. King ferdinand their book the cult of. Creation, performance, favourable for the.Medizinische psychologie sexual instincts, could become illuminated by the 15th century's. People than which measures the environment in this. Sparse civilian creatures, but in particular. Renton, and causal and correlational relationships between heat and. Flows on can reveal oddities, e.g., that while there are many examples of different groups. Reputation and canal was completed in 1936, transports about. The paws frequented by sun. During rush deluge which swept out most of. Formed from by canada's royal commission. Sound region, times velocity. Seconds), from countries which permit a large impact on. Financial institutions, mental illness. mental illnesses are the most populated areas are warm in. Statistical properties death valley, which contains the.\",\n",
       " \"Weekely newes 2000). although atlanta's. Japan's relationship mentioned. he took office on. Law organized hail is produced using hydropower. less.Syndrome children and valley. Romantic idiom. university chicago.. Caudillo, beat of time, and thereafter expanded over the internet with online newspaper websites.. 700 words provided directly. The valence world. advanced. Students beat neutral group of stars?.National advertisers 12,500 kj. Of molecule higher elevation, and. While focused teaching toy based on where people. Each receiving largest moon in the world and the temple of abu. This move survey of. Extensive rift misérables is. Technical secondary arranged by sub-topic practical philosophy science of. Surveys show by experiments. if. Deontology (from ballard, and northwest hospital and. Controversy. this the truth of a substance which receives that hydrogen represents a. Ability to providing balanced information about new movies and tv shows available on streaming. Way onto the soviet–japanese. (2426 species), danish culture is supported by the high school graduates.\"]"
      ]
     },
     "execution_count": 6,
     "metadata": {},
     "output_type": "execute_result"
    }
   ],
   "source": [
    "#We create a list of 20 documents and 3 paragraphs each document:\n",
    "list_of_documents(2,3)"
   ]
  },
  {
   "cell_type": "markdown",
   "id": "d9aee8be",
   "metadata": {},
   "source": [
    "Next we create a function that transforms the list of documents into bags. "
   ]
  },
  {
   "cell_type": "code",
   "execution_count": 5,
   "id": "dc5f8419",
   "metadata": {},
   "outputs": [],
   "source": [
    "from nltk.tokenize import word_tokenize\n",
    "\n",
    "def create_bags(size,n): \n",
    "    docs=list_of_documents(size,n)\n",
    "    bags=[]\n",
    "    for doc in docs:\n",
    "        bags.append(word_tokenize(doc))   \n",
    "    return bags\n",
    "\n",
    "#create_bags(20,3)\n",
    "#print(len(create_bags(20,3)))"
   ]
  },
  {
   "cell_type": "markdown",
   "id": "f874a5fd",
   "metadata": {},
   "source": [
    "And finally, the function that transforms the bags into a dictionary. The parameters size and n are used, where size is the number of documents to be created and n the number of paragraphs in each document (each paragraph contains between 50 and 80 words)."
   ]
  },
  {
   "cell_type": "code",
   "execution_count": 6,
   "id": "ff0b5cee",
   "metadata": {},
   "outputs": [],
   "source": [
    "def make_dict(tokenlist):\n",
    "    res_dict={}\n",
    "    for token in tokenlist:\n",
    "        res_dict[token]=res_dict.get(token,0)+1\n",
    "    return res_dict\n",
    "\n",
    "def create_docdicts(size,n): \n",
    "    \n",
    "    bags=create_bags(size,n)\n",
    "    \n",
    "    docdicts=[]\n",
    "    for bag in bags:\n",
    "        docdicts.append(make_dict(bag))\n",
    "    return docdicts"
   ]
  },
  {
   "cell_type": "markdown",
   "id": "0c9755b5",
   "metadata": {},
   "source": [
    "We tested creating a dictionary of 2 documents, with each document of 3 paragraphs:"
   ]
  },
  {
   "cell_type": "code",
   "execution_count": 9,
   "id": "1ac9f951",
   "metadata": {},
   "outputs": [
    {
     "data": {
      "text/plain": [
       "[{'However': 1,\n",
       "  ',': 38,\n",
       "  'there': 1,\n",
       "  'mercedes-benz': 1,\n",
       "  'bmw': 1,\n",
       "  'sap': 1,\n",
       "  'volkswagen': 1,\n",
       "  'audi': 1,\n",
       "  'siemens': 1,\n",
       "  '..': 8,\n",
       "  'Mediterranean': 1,\n",
       "  'basin': 1,\n",
       "  'period': 1,\n",
       "  '600': 1,\n",
       "  '.': 31,\n",
       "  '1980s': 1,\n",
       "  ':': 3,\n",
       "  'in': 6,\n",
       "  'ricardo': 1,\n",
       "  'güiraldes': 1,\n",
       "  \"'s\": 1,\n",
       "  'don': 1,\n",
       "  'segundo': 1,\n",
       "  'Cavities': 1,\n",
       "  'dug': 1,\n",
       "  'english': 1,\n",
       "  'rural': 1,\n",
       "  'history': 1,\n",
       "  'has': 2,\n",
       "  'recently': 1,\n",
       "  'expanded': 1,\n",
       "  'its': 1,\n",
       "  'autonomous': 1,\n",
       "  'drill': 1,\n",
       "  'fleet': 1,\n",
       "  'Or': 1,\n",
       "  'mathematics': 1,\n",
       "  'directorate': 1,\n",
       "  '(': 4,\n",
       "  'ti̇b': 1,\n",
       "  'In': 1,\n",
       "  'native': 1,\n",
       "  'gardens': 1,\n",
       "  'cover': 1,\n",
       "  'Physician': 1,\n",
       "  \"''\": 1,\n",
       "  'medicine': 1,\n",
       "  'million': 3,\n",
       "  'reno': 1,\n",
       "  'nevada': 1,\n",
       "  '$': 2,\n",
       "  '715.23': 1,\n",
       "  'new': 2,\n",
       "  'orleans': 1,\n",
       "  '653.05': 1,\n",
       "  'downtown': 1,\n",
       "  'las': 1,\n",
       "  'Approximately': 1,\n",
       "  '120': 1,\n",
       "  'capital': 1,\n",
       "  'now': 1,\n",
       "  'hosts': 1,\n",
       "  'software': 1,\n",
       "  'communication': 1,\n",
       "  'technology': 1,\n",
       "  'defense': 1,\n",
       "  'contracting': 1,\n",
       "  'companies': 1,\n",
       "  'particularly': 1,\n",
       "  'the': 10,\n",
       "  'world': 1,\n",
       "  'Pollen': 1,\n",
       "  'buds': 1,\n",
       "  'heinrich': 1,\n",
       "  'schultz': 1,\n",
       "  'a': 3,\n",
       "  'german': 1,\n",
       "  'naturalist': 1,\n",
       "  'peter': 1,\n",
       "  'simon': 1,\n",
       "  'pallas': 1,\n",
       "  'as': 3,\n",
       "  'strength': 1,\n",
       "  'Energy': 1,\n",
       "  'it': 1,\n",
       "  'matters': 1,\n",
       "  'punky': 1,\n",
       "  'brewster': 1,\n",
       "  'married': 1,\n",
       "  '...': 1,\n",
       "  'with': 3,\n",
       "  'children': 1,\n",
       "  'kenan': 1,\n",
       "  '&': 1,\n",
       "  'kel': 1,\n",
       "  'still': 1,\n",
       "  'standing': 1,\n",
       "  'league': 1,\n",
       "  'A': 3,\n",
       "  'chemically': 1,\n",
       "  'influential': 1,\n",
       "  'proponents': 1,\n",
       "  'of': 8,\n",
       "  'this': 3,\n",
       "  'variable': 1,\n",
       "  'determining': 1,\n",
       "  'Suffice': 1,\n",
       "  'to': 5,\n",
       "  'fields': 1,\n",
       "  'and': 9,\n",
       "  'their': 2,\n",
       "  'eternal': 1,\n",
       "  'unchanging': 1,\n",
       "  'soul': 1,\n",
       "  'divergent': 1,\n",
       "  'hindu': 1,\n",
       "  'doctrines': 1,\n",
       "  'buddhism': 1,\n",
       "  'have': 2,\n",
       "  'Oceanic': 1,\n",
       "  'trenches': 1,\n",
       "  'act': 1,\n",
       "  'establishing': 1,\n",
       "  'relevant': 1,\n",
       "  'context': 1,\n",
       "  'often': 1,\n",
       "  'selecting': 1,\n",
       "  'Regions': 1,\n",
       "  'receive': 1,\n",
       "  'table': 1,\n",
       "  'are': 2,\n",
       "  'categorized': 1,\n",
       "  'according': 1,\n",
       "  'north': 1,\n",
       "  'east': 1,\n",
       "  'And': 1,\n",
       "  'focus': 1,\n",
       "  'scales': 1,\n",
       "  'all': 2,\n",
       "  'three': 1,\n",
       "  'types': 1,\n",
       "  'compounds': 1,\n",
       "  'depending': 1,\n",
       "  'on': 1,\n",
       "  'whether': 1,\n",
       "  'participants.Between': 1,\n",
       "  'many': 2,\n",
       "  'two': 1,\n",
       "  'places': 1,\n",
       "  'romanche': 1,\n",
       "  'fracture': 1,\n",
       "  'zone': 1,\n",
       "  'ffz': 1,\n",
       "  'Hurricane': 1,\n",
       "  'charley': 1,\n",
       "  'publications': 1,\n",
       "  'Virginia': 1,\n",
       "  'press': 1,\n",
       "  'Increased': 1,\n",
       "  'leisure': 1,\n",
       "  'others': 1,\n",
       "  'improve': 1,\n",
       "  'credibility': 1,\n",
       "  'appointing': 1,\n",
       "  'ombudsmen': 1,\n",
       "  'developing': 1,\n",
       "  'ethics': 1,\n",
       "  'policies': 1,\n",
       "  'The': 1,\n",
       "  'iran–iraq': 1,\n",
       "  'revolution': 1,\n",
       "  'republicans': 1,\n",
       "  'come': 1,\n",
       "  'surpass': 1,\n",
       "  'newspapers': 1,\n",
       "  'Kaya': 1,\n",
       "  'bülent': 1,\n",
       "  ';': 1,\n",
       "  'afro-asiatic-speaking': 1,\n",
       "  'beja': 1,\n",
       "  'nomads': 1,\n",
       "  'can': 2,\n",
       "  'also': 1,\n",
       "  'be': 2,\n",
       "  'found': 1,\n",
       "  'hypothesis': 1,\n",
       "  'conducting': 1,\n",
       "  'research': 1,\n",
       "  'Public': 1,\n",
       "  'university': 1,\n",
       "  'algorithm': 1,\n",
       "  'capable': 1,\n",
       "  'amending': 1,\n",
       "  'Include': 1,\n",
       "  'vallenato': 1,\n",
       "  'movements': 1,\n",
       "  'political': 1,\n",
       "  'historians': 1,\n",
       "  'Experimental': 1,\n",
       "  'physics': 1,\n",
       "  'prominent': 1,\n",
       "  'yorker': 1,\n",
       "  'hotel': 1,\n",
       "  'until': 1,\n",
       "  'he': 1,\n",
       "  'became': 1,\n",
       "  'age': 1,\n",
       "  'but': 1,\n",
       "  'it.Are': 1,\n",
       "  'vividly': 1,\n",
       "  'sexual': 2,\n",
       "  'relations': 1,\n",
       "  'panic': 1,\n",
       "  '1893': 1,\n",
       "  'theory': 1,\n",
       "  'bighorn': 1,\n",
       "  'sheep': 1,\n",
       "  'was': 1,\n",
       "  'listed': 1,\n",
       "  'shenandoah': 1,\n",
       "  'Spanish': 1,\n",
       "  'jesuits': 1,\n",
       "  '28.46': 1,\n",
       "  '%': 2,\n",
       "  '9,696,638': 1,\n",
       "  ')': 1,\n",
       "  'work': 1,\n",
       "  'Including': 1,\n",
       "  'sierra': 1,\n",
       "  'cabinets': 1,\n",
       "  'since': 1,\n",
       "  '1949': 1,\n",
       "  'soviet': 1,\n",
       "  'union': 1,\n",
       "  'by': 2,\n",
       "  '1942': 1,\n",
       "  'germany': 1,\n",
       "  '69': 1,\n",
       "  'Classifies': 1,\n",
       "  'anaximander': 1,\n",
       "  'Free': 1,\n",
       "  'broadcasting': 1,\n",
       "  'conduct': 1,\n",
       "  'long': 1,\n",
       "  'thought': 1,\n",
       "  'care': 1,\n",
       "  'for': 1,\n",
       "  'residents': 1,\n",
       "  'additionally': 1},\n",
       " {'Of': 1,\n",
       "  'earth': 1,\n",
       "  \"'s\": 1,\n",
       "  '.': 29,\n",
       "  'they': 1,\n",
       "  'achieve': 1,\n",
       "  'continuous': 1,\n",
       "  'Montana': 1,\n",
       "  'tributaries': 1,\n",
       "  'provides': 1,\n",
       "  'world': 2,\n",
       "  'class': 1,\n",
       "  'education': 1,\n",
       "  'in': 6,\n",
       "  'science': 2,\n",
       "  ',': 23,\n",
       "  'as': 2,\n",
       "  'for': 1,\n",
       "  'instance': 1,\n",
       "  'computational': 1,\n",
       "  'Football': 1,\n",
       "  'association': 1,\n",
       "  'center': 1,\n",
       "  'part': 1,\n",
       "  'of': 6,\n",
       "  'the': 9,\n",
       "  'state': 1,\n",
       "  'Danish': 1,\n",
       "  'nazi': 1,\n",
       "  'léo': 1,\n",
       "  'ferré': 1,\n",
       "  'charles': 1,\n",
       "  'aznavour': 1,\n",
       "  'and': 9,\n",
       "  'serge': 1,\n",
       "  'gainsbourg': 1,\n",
       "  'although': 1,\n",
       "  'there': 1,\n",
       "  'may': 1,\n",
       "  'also': 1,\n",
       "  'Short': 1,\n",
       "  \"'\": 2,\n",
       "  'a': 3,\n",
       "  'neutrino': 1,\n",
       "  'astronomy': 1,\n",
       "  'astronomers': 1,\n",
       "  'use': 1,\n",
       "  'heavily': 1,\n",
       "  'shielded': 1,\n",
       "  'underground': 1,\n",
       "  'facilities': 1,\n",
       "  'such': 1,\n",
       "  'vincent': 1,\n",
       "  'Speed': 1,\n",
       "  ')': 4,\n",
       "  'relativistically': 1,\n",
       "  'nowsecure': 1,\n",
       "  'chicago': 1,\n",
       "  'has': 1,\n",
       "  'variety': 1,\n",
       "  'music': 1,\n",
       "  'some': 1,\n",
       "  'these': 1,\n",
       "  'For': 1,\n",
       "  'norfolk': 1,\n",
       "  'negative': 1,\n",
       "  'toward': 1,\n",
       "  'them': 1,\n",
       "  'system': 1,\n",
       "  'with': 1,\n",
       "  'Can': 1,\n",
       "  'not': 3,\n",
       "  'tests': 1,\n",
       "  'assays': 1,\n",
       "  'procedures': 1,\n",
       "  'developed': 1,\n",
       "  'through': 2,\n",
       "  'public': 1,\n",
       "  'health': 2,\n",
       "  'home': 1,\n",
       "  'affairs': 1,\n",
       "  'foreign': 1,\n",
       "  'Neutering': 1,\n",
       "  'will': 1,\n",
       "  'graphics': 1,\n",
       "  'software': 1,\n",
       "  'digital': 1,\n",
       "  'cameras': 1,\n",
       "  'With': 1,\n",
       "  'highly': 1,\n",
       "  'society': 1,\n",
       "  'however': 1,\n",
       "  'her': 1,\n",
       "  'declining': 1,\n",
       "  'did': 1,\n",
       "  'always': 1,\n",
       "  'The': 2,\n",
       "  'noun': 1,\n",
       "  'statistical': 1,\n",
       "  'office': 1,\n",
       "  'classifies': 1,\n",
       "  'citizens': 1,\n",
       "  'by': 2,\n",
       "  'immigrant': 1,\n",
       "  'Traffic': 1,\n",
       "  'volume': 1,\n",
       "  'porto': 1,\n",
       "  'alegre': 1,\n",
       "  'recife': 1,\n",
       "  'belo': 1,\n",
       "  'horizonte': 1,\n",
       "  'lake': 1,\n",
       "  'titicaca': 1,\n",
       "  'which': 2,\n",
       "  'is.Paul': 1,\n",
       "  'flechsig': 1,\n",
       "  'illuminated': 1,\n",
       "  'professor': 1,\n",
       "  '(': 3,\n",
       "  'socratic': 1,\n",
       "  'method': 1,\n",
       "  'many': 2,\n",
       "  'others': 1,\n",
       "  'have': 1,\n",
       "  'criticized': 1,\n",
       "  'nickels': 1,\n",
       "  'Police': 1,\n",
       "  'leadership': 1,\n",
       "  'sporting': 1,\n",
       "  'Interconnected': 1,\n",
       "  'buildings': 1,\n",
       "  'indian': 1,\n",
       "  'americans': 2,\n",
       "  'poor': 1,\n",
       "  'european': 1,\n",
       "  'though': 1,\n",
       "  'Revolution': 1,\n",
       "  'petroleum': 1,\n",
       "  '21.3': 1,\n",
       "  '%': 1,\n",
       "  'from': 2,\n",
       "  'Journalism': 1,\n",
       "  'secure': 1,\n",
       "  'daily': 1,\n",
       "  'transactions': 1,\n",
       "  'communications': 1,\n",
       "  'just': 1,\n",
       "  'to': 2,\n",
       "  'get': 1,\n",
       "  'modern': 1,\n",
       "  'Canadian': 1,\n",
       "  'usage': 1,\n",
       "  'colours': 1,\n",
       "  'on': 1,\n",
       "  'three': 1,\n",
       "  'fundamental': 1,\n",
       "  'ideas': 1,\n",
       "  'are': 1,\n",
       "  ':': 1,\n",
       "  '``': 1,\n",
       "  'solidarity': 1,\n",
       "  'equality': 1,\n",
       "  'inclusiveness': 1,\n",
       "  'Catholic': 1,\n",
       "  'diocese': 1,\n",
       "  'equestrian': 1,\n",
       "  'sport': 1,\n",
       "  '..': 1,\n",
       "  'elite': 1,\n",
       "  '1976': 1,\n",
       "  'history': 1,\n",
       "  'psychological': 1,\n",
       "  'iupsys': 1,\n",
       "  'founded.Documents': 1,\n",
       "  'into': 1,\n",
       "  'm': 1,\n",
       "  'high': 1,\n",
       "  'Intelligence': 1,\n",
       "  'that': 1,\n",
       "  'inches': 1,\n",
       "  '100': 1}]"
      ]
     },
     "execution_count": 9,
     "metadata": {},
     "output_type": "execute_result"
    }
   ],
   "source": [
    "create_docdicts(2,3)"
   ]
  },
  {
   "cell_type": "markdown",
   "id": "2a669889",
   "metadata": {},
   "source": [
    "# Running time analysis for Jaccard's Similarity <a class=\"anchor\" id=\"second-bullet\"></a>"
   ]
  },
  {
   "cell_type": "markdown",
   "id": "6e106966",
   "metadata": {},
   "source": [
    "Present an analysis of the theoretical running time of Jaccard’s similarity measure applied to large documents represented as bags of words (in a Python dictionary). Test your analysis empirically by timing and plotting various calculations of Jaccard similarity on your computer. Estimate relevant constants for your implementation and computer."
   ]
  },
  {
   "cell_type": "markdown",
   "id": "f0282c83",
   "metadata": {},
   "source": [
    "We create the function to obtain jaccard similarity from 2 documents."
   ]
  },
  {
   "cell_type": "code",
   "execution_count": 7,
   "id": "c12e0e4c",
   "metadata": {},
   "outputs": [],
   "source": [
    "def maketotal(dict1):\n",
    "    total=0\n",
    "    for item in dict1:\n",
    "        total += dict1[item]\n",
    "    return total\n",
    "\n",
    "def jaccard(dict1,dict2):\n",
    "    intersection={}\n",
    "    for item in dict1.keys():\n",
    "        if item in dict2.keys():\n",
    "            intersection[item]=min(dict1[item],dict2[item])\n",
    "            \n",
    "    intersectiontot=maketotal(intersection)\n",
    "    union = maketotal(dict1)+maketotal(dict2)-intersectiontot\n",
    "    return intersectiontot/union\n"
   ]
  },
  {
   "cell_type": "markdown",
   "id": "a92d64bc",
   "metadata": {},
   "source": [
    "We tested the function with a dictionary of 2 documents and 3 paragraphs per document."
   ]
  },
  {
   "cell_type": "code",
   "execution_count": 12,
   "id": "fe0223ba",
   "metadata": {},
   "outputs": [
    {
     "data": {
      "text/plain": [
       "0.18085106382978725"
      ]
     },
     "execution_count": 12,
     "metadata": {},
     "output_type": "execute_result"
    }
   ],
   "source": [
    "jaccard(create_docdicts(2,3)[0],create_docdicts(2,3)[1])"
   ]
  },
  {
   "cell_type": "markdown",
   "id": "18ec0103",
   "metadata": {},
   "source": [
    "We create a function to store the average run time over 100 repetitions. "
   ]
  },
  {
   "cell_type": "code",
   "execution_count": 8,
   "id": "6085db24",
   "metadata": {},
   "outputs": [],
   "source": [
    "import numpy as np\n",
    "\n",
    "def timeit(somefunc,*args,repeats=100,**kwargs):\n",
    "    times=[]\n",
    "    for i in range(repeats):\n",
    "        starttime=time.time()\n",
    "        ans=somefunc(*args,**kwargs)\n",
    "        endtime=time.time()\n",
    "        timetaken=endtime-starttime\n",
    "        times.append(timetaken)\n",
    "    \n",
    "    mean=np.mean(times)\n",
    "    stdev=np.std(times)\n",
    " \n",
    "    return (mean,stdev)"
   ]
  },
  {
   "cell_type": "markdown",
   "id": "0cf2579f",
   "metadata": {},
   "source": [
    "We test the jaccard similarity function with the time function above. \n",
    "\n",
    "The number of paragraphs will increase in intervals of 10, starting from 100 paragraphs (5000 words) to 1000 paragraphs (50000 words):"
   ]
  },
  {
   "cell_type": "code",
   "execution_count": 10,
   "id": "cfd780f5",
   "metadata": {},
   "outputs": [],
   "source": [
    "import time\n",
    "\n",
    "xs=[]\n",
    "ys_jaccard_test1=[]\n",
    "for i in range(100,1000,10):\n",
    "    list1=create_docdicts(2,i)\n",
    "    y,z=timeit(jaccard,list1[0],list1[1])\n",
    "    xs.append(i)\n",
    "    ys_jaccard_test1.append(y)\n"
   ]
  },
  {
   "cell_type": "markdown",
   "id": "0342ffb4",
   "metadata": {},
   "source": [
    "The result is:"
   ]
  },
  {
   "cell_type": "code",
   "execution_count": 11,
   "id": "7d55ef0b",
   "metadata": {},
   "outputs": [
    {
     "name": "stdout",
     "output_type": "stream",
     "text": [
      "[0.0010609388351440429, 0.0013813376426696777, 0.0013388442993164064, 0.0014861035346984863, 0.0018280029296875, 0.0016536855697631837, 0.001659693717956543, 0.001687493324279785, 0.0018207955360412598, 0.0018943333625793457, 0.0019809532165527342, 0.0019638895988464355, 0.002128283977508545, 0.0028780674934387207, 0.0028633570671081545, 0.0026555466651916504, 0.0026146221160888673, 0.0025841021537780762, 0.0027796769142150878, 0.002733275890350342, 0.0028801703453063964, 0.0030374836921691893, 0.003367626667022705, 0.0035106039047241213, 0.0038654637336730958, 0.0034985828399658205, 0.0036228632926940917, 0.003792440891265869, 0.003942384719848633, 0.0035344243049621584, 0.003619396686553955, 0.0038153791427612306, 0.0037073683738708496, 0.004557926654815674, 0.0041546010971069336, 0.004139087200164795, 0.0053304553031921385, 0.004085054397583008, 0.004547581672668457, 0.004824035167694092, 0.004775753021240234, 0.004542608261108399, 0.0046726083755493164, 0.0044534850120544435, 0.004733293056488037, 0.005569205284118652, 0.004812412261962891, 0.00453573226928711, 0.0053299045562744144, 0.005051205158233643, 0.005087425708770752, 0.005646228790283203, 0.004854323863983154, 0.005645914077758789, 0.006137561798095703, 0.005239651203155517, 0.009642469882965087, 0.005492279529571533, 0.006718101501464843, 0.006353449821472168, 0.00609837532043457, 0.0058045339584350585, 0.0059653639793395994, 0.005897057056427002, 0.005945653915405274, 0.007352180480957031, 0.006059525012969971, 0.006078810691833496, 0.006060819625854492, 0.006008350849151611, 0.008391845226287841, 0.00643362045288086, 0.00650165319442749, 0.0064651226997375485, 0.006680092811584473, 0.0070839858055114745, 0.006913254261016846, 0.007546520233154297, 0.006710128784179687, 0.007124648094177246, 0.006894214153289795, 0.00902477502822876, 0.0070753836631774905, 0.006912775039672851, 0.007888329029083253, 0.0072621583938598635, 0.011360461711883546, 0.008580420017242432, 0.007795355319976807, 0.007751610279083252]\n"
     ]
    }
   ],
   "source": [
    "print(ys_jaccard_test1)"
   ]
  },
  {
   "cell_type": "markdown",
   "id": "03e18a09",
   "metadata": {},
   "source": [
    "We plot the result"
   ]
  },
  {
   "cell_type": "code",
   "execution_count": 12,
   "id": "b3c1388c",
   "metadata": {},
   "outputs": [
    {
     "data": {
      "text/plain": [
       "[<matplotlib.lines.Line2D at 0x1f79eb12a90>]"
      ]
     },
     "execution_count": 12,
     "metadata": {},
     "output_type": "execute_result"
    },
    {
     "data": {
      "image/png": "[encoded data removed]",
      "text/plain": [
       "<Figure size 640x480 with 1 Axes>"
      ]
     },
     "metadata": {},
     "output_type": "display_data"
    }
   ],
   "source": [
    "import matplotlib.pyplot as plt\n",
    "#plt.ylim(0,0.05)\n",
    "plt.plot(xs,ys_jaccard_test1)"
   ]
  },
  {
   "cell_type": "markdown",
   "id": "e3c1dcfc",
   "metadata": {},
   "source": [
    "We observe that the response time increases in a linear way as the number of words from the number of words increases.\n",
    "\n",
    "Next, we plot the logarithmic function of the obtained values, in order to obtain the theoretical response times."
   ]
  },
  {
   "cell_type": "code",
   "execution_count": 42,
   "id": "b55d972f",
   "metadata": {},
   "outputs": [
    {
     "data": {
      "image/png": "[encoded data removed]",
      "text/plain": [
       "<Figure size 640x480 with 1 Axes>"
      ]
     },
     "metadata": {},
     "output_type": "display_data"
    }
   ],
   "source": [
    "# Converting each element in the bag size list and the run time list to logarithmic vlaues with base 10\n",
    "logx = [ np.log10(i )for i in  xs ]\n",
    "logy = [np.log10(i) for i in ys_jaccard_test1 ]\n",
    "\n",
    "#plotting the graph between the log values\n",
    "plt.scatter(logx,logy)\n",
    "plt.ylabel(\"Log mean Jaccard Runtime\")\n",
    "plt.xlabel('Log of Bag Size')\n",
    "plt.show()"
   ]
  },
  {
   "cell_type": "code",
   "execution_count": 15,
   "id": "a117a496",
   "metadata": {},
   "outputs": [
    {
     "name": "stdout",
     "output_type": "stream",
     "text": [
      "The slope is 0.8415591612456704, the constant for the computation is 2.4606690193934484e-05 and the intercept  is -4.608946798616552\n"
     ]
    }
   ],
   "source": [
    "import scipy.stats as stats\n",
    "\n",
    "slope_jaccard,intercept, r_value, p_value ,std_err = stats.linregress(logx,logy)\n",
    "constant = np.power(10,intercept)\n",
    "print('The slope is {}, the constant for the computation is {} and the intercept  is {}'.format(slope_jaccard,constant,intercept))"
   ]
  },
  {
   "cell_type": "markdown",
   "id": "eb28ca0c",
   "metadata": {},
   "source": [
    "### Estimate the constant for my implementation and computer.\n",
    "We observe that the response time grows in a linear fashion as the number of paragraphs increases in intervals of 10, starting from 100 paragraphs (5000 words) to 1000 paragraphs (50000 words).\n",
    "To calculate the execution time we will use the following formula: $y=c_a.x^n$ then it follows that: $\\log(y) = \\log(c_a) + n \\log(x)$\n",
    "therefore, if I plot a graph of $\\log(y)$ against $\\log(x)$ the gradient will be n and the y intercept will be $\\log(c_a)$. According to the second chart of worst- case running time of Jaccard's similarity measure. Its gradient and intercept were approximately 0.84 and -4.608 respectively. So $𝑐𝑎≈10^{−4.6}\\approx 0.00001$. Based on this analysis, I estimate the worst running time $y\\approx c_a.x^{0.84} $. This illustrates that empirically we have $  𝑂(𝑛^{0.84})$ which is slightly better than $𝑂(𝑛)$. "
   ]
  },
  {
   "cell_type": "markdown",
   "id": "5cab80e0",
   "metadata": {},
   "source": [
    "# Running time worst case analysis for Cosine Similarity <a class=\"anchor\" id=\"third-bullet\"></a>"
   ]
  },
  {
   "cell_type": "markdown",
   "id": "394afa52",
   "metadata": {},
   "source": [
    "What is the theoretical worst case running time of the cosine similarity measure applied to documents represented as (dense representation) vectors? Show that this is the case empirically. Estimate the constant for your implementation and computer. Compare using the implementation of the dot product in numpy with your own implementation."
   ]
  },
  {
   "cell_type": "markdown",
   "id": "256c9001",
   "metadata": {},
   "source": [
    "Cosine similarity is also a mathematical concept which can be used to determine how similar two documents are by finding out the angle between the two vectors (the documents can be represented as vectors in the euclidean space). Smaller angle ⟹higher the  cosθ\n",
    "  and more similar the documents are.\n",
    "\n",
    "cosθ=A⋅B / |A|∗|B|\n"
   ]
  },
  {
   "cell_type": "markdown",
   "id": "2b6e4aae",
   "metadata": {},
   "source": [
    "We create the dense vector from the dictionary."
   ]
  },
  {
   "cell_type": "code",
   "execution_count": 22,
   "id": "b2202faf",
   "metadata": {},
   "outputs": [],
   "source": [
    "#Function which generates dense vector pairs as numpy arrays for finding out the cosine similarity\n",
    "def densevectors_asnparray(dict1,dict2):\n",
    "  list1 = list(dict1.keys())\n",
    "  list2 = list(dict2.keys())\n",
    "  listtogather = list(set(list1 + list2)) # creating a list of unique keys from both the dict.keys() list\n",
    "  list1f =[]\n",
    "  list2f= []\n",
    "  for i in listtogather: #for keys in dict1, it gives the corresponding values and otherwise it appends 0\n",
    "    if i in dict1.keys():\n",
    "      list1f.append(dict1[i])\n",
    "    else:\n",
    "      list1f.append(0)\n",
    "\n",
    "  for i in listtogather: #for keys in dict2, it gives the corresponding values and otherwise it appends 0\n",
    "    if i in dict2.keys():\n",
    "      list2f.append(dict2[i])\n",
    "    else:\n",
    "      list2f.append(0)\n",
    "\n",
    "  return np.asarray(list1f) ,np.asarray(list2f) #finally the funciton returns numpy vectors corresponding to each dictionary"
   ]
  },
  {
   "cell_type": "markdown",
   "id": "0486513e",
   "metadata": {},
   "source": [
    "We tested it from a dictionary of 2 documents and 3 paragraphs each."
   ]
  },
  {
   "cell_type": "code",
   "execution_count": 23,
   "id": "6011c3d3",
   "metadata": {},
   "outputs": [],
   "source": [
    "# To generate list of densevector pair in numpy array form\n",
    "doc_pair_list=create_docdicts(2,3)\n",
    "#list_densevector_nppair = []\n",
    "#for i in doc_pair_list:\n",
    "#  list_densevector_nppair.append(densevectors_asnparray(i[0],i[1]))"
   ]
  },
  {
   "cell_type": "code",
   "execution_count": 24,
   "id": "13510648",
   "metadata": {},
   "outputs": [
    {
     "data": {
      "text/plain": [
       "[{'Business': 1,\n",
       "  'conduct': 1,\n",
       "  'in': 4,\n",
       "  'sweden': 1,\n",
       "  'before': 1,\n",
       "  'the': 7,\n",
       "  'arrival': 1,\n",
       "  '.': 16,\n",
       "  'Climate': 1,\n",
       "  'zones': 1,\n",
       "  'among': 1,\n",
       "  'Three': 1,\n",
       "  'types': 1,\n",
       "  'brazil': 1,\n",
       "  'remained': 1,\n",
       "  'a': 1,\n",
       "  'central': 1,\n",
       "  'immigration': 1,\n",
       "  'center': 1,\n",
       "  'until.In': 1,\n",
       "  '1516': 1,\n",
       "  'flash': 1,\n",
       "  '..': 2,\n",
       "  'The': 1,\n",
       "  'dayside': 1,\n",
       "  '1898': 1,\n",
       "  ',': 11,\n",
       "  'during': 1,\n",
       "  'next': 1,\n",
       "  'centuries': 1,\n",
       "  'muslim': 1,\n",
       "  'forces': 1,\n",
       "  'took': 1,\n",
       "  'cyprus': 1,\n",
       "  'malta': 1,\n",
       "  '!': 1,\n",
       "  'Is': 1,\n",
       "  'banking': 1,\n",
       "  'has': 1,\n",
       "  'hindered': 1,\n",
       "  'Sleeping': 1,\n",
       "  'beauty': 1,\n",
       "  'commonwealth': 1,\n",
       "  'was': 1,\n",
       "  'under': 1,\n",
       "  'one-party': 1,\n",
       "  'rule': 1,\n",
       "  'for': 1,\n",
       "  'nearly': 1,\n",
       "  '2000': 1,\n",
       "  'years': 1,\n",
       "  'Various': 1,\n",
       "  'corporate': 1,\n",
       "  'packet': 1,\n",
       "  'headers': 1,\n",
       "  'and': 4,\n",
       "  'trailers': 1,\n",
       "  'with': 3,\n",
       "  'payload': 1,\n",
       "  'data': 1,\n",
       "  'On': 1,\n",
       "  'activities': 1,\n",
       "  'continuing': 1,\n",
       "  'numerous': 1,\n",
       "  'ethnic': 1,\n",
       "  'festivals': 1,\n",
       "  '(': 2,\n",
       "  'many': 1,\n",
       "  'associated': 1,\n",
       "  'hydroxide.Growth': 1,\n",
       "  'mill': 1,\n",
       "  'levy': 1,\n",
       "  'established': 1,\n",
       "  'Beeches': 1,\n",
       "  'oaks': 1,\n",
       "  'competition': 1,\n",
       "  'spain': 1,\n",
       "  'Or': 1,\n",
       "  'serious': 1,\n",
       "  'bear': 1,\n",
       "  'his': 1,\n",
       "  'name': 1,\n",
       "  'newton': 1,\n",
       "  'also': 1,\n",
       "  'developed': 1,\n",
       "  'Slow': 1,\n",
       "  'two-way': 1,\n",
       "  'temperatures': 1,\n",
       "  'falling': 1,\n",
       "  'sharply': 1,\n",
       "  'at': 1,\n",
       "  'night': 1,\n",
       "  'cats': 1,\n",
       "  \"'\": 1,\n",
       "  'feces': 1,\n",
       "  'are': 1,\n",
       "  'comparatively': 1,\n",
       "  'inexpensive': 1,\n",
       "  'see': 1,\n",
       "  'drawing': 1,\n",
       "  '1789': 1,\n",
       "  'declaration': 1,\n",
       "  'of': 1,\n",
       "  'independence': 1,\n",
       "  'one': 1,\n",
       "  'year': 1,\n",
       "  'later': 1,\n",
       "  'general': 1,\n",
       "  'martín': 1,\n",
       "  'Also': 1,\n",
       "  'been': 1,\n",
       "  'lans': 1,\n",
       "  'satellite': 1,\n",
       "  'coverage': 1,\n",
       "  'areas': 1,\n",
       "  'etc': 1,\n",
       "  'key': 1,\n",
       "  'challenge': 1,\n",
       "  'mobile': 1,\n",
       "  'communications': 1,\n",
       "  'is': 1,\n",
       "  'Pueblos': 1,\n",
       "  'indígenas': 1,\n",
       "  'than': 1,\n",
       "  'southeast': 1,\n",
       "  'alaska': 1,\n",
       "  'it': 1,\n",
       "  'gets': 1,\n",
       "  'more': 1,\n",
       "  'snow': 1},\n",
       " {'Across': 1,\n",
       "  'montana': 1,\n",
       "  ',': 14,\n",
       "  'the': 13,\n",
       "  'city-state': 1,\n",
       "  '.': 28,\n",
       "  'Others': 1,\n",
       "  'should': 1,\n",
       "  'transit': 1,\n",
       "  'accessibility': 1,\n",
       "  'emory': 1,\n",
       "  'university': 1,\n",
       "  'and': 6,\n",
       "  'bose–einstein': 1,\n",
       "  'condensate': 1,\n",
       "  'found': 1,\n",
       "  'in': 7,\n",
       "  'Called': 1,\n",
       "  'species': 1,\n",
       "  'programs': 1,\n",
       "  'may.Mathematically': 1,\n",
       "  'equivalent': 1,\n",
       "  'offer': 1,\n",
       "  'complaining': 1,\n",
       "  'person': 1,\n",
       "  'a': 7,\n",
       "  'Range': 1,\n",
       "  'theodosius': 1,\n",
       "  'outlawed': 1,\n",
       "  'pagan': 1,\n",
       "  'religions': 1,\n",
       "  'this': 2,\n",
       "  'is': 2,\n",
       "  'known': 1,\n",
       "  'as': 4,\n",
       "  'quilombo': 1,\n",
       "  'of': 8,\n",
       "  'Centre': 1,\n",
       "  'belong': 1,\n",
       "  'relatively': 1,\n",
       "  'large': 1,\n",
       "  '2008.': 1,\n",
       "  'light': 1,\n",
       "  'part': 1,\n",
       "  'by': 2,\n",
       "  'debts': 1,\n",
       "  'incurred': 1,\n",
       "  'late': 1,\n",
       "  '1980s': 1,\n",
       "  'although': 1,\n",
       "  'they': 1,\n",
       "  'Landscape': 1,\n",
       "  'consisting': 1,\n",
       "  'state': 1,\n",
       "  'governed': 1,\n",
       "  'under': 1,\n",
       "  'federal': 1,\n",
       "  'responsibility': 1,\n",
       "  'action': 1,\n",
       "  'antihumanists': 1,\n",
       "  'such': 1,\n",
       "  'rats': 1,\n",
       "  'which': 1,\n",
       "  'In': 2,\n",
       "  '380': 1,\n",
       "  'technically': 1,\n",
       "  'trained': 1,\n",
       "  'staff': 1,\n",
       "  'who': 1,\n",
       "  'do': 1,\n",
       "  'not': 1,\n",
       "  'possess': 1,\n",
       "  'skills': 1,\n",
       "  'And': 2,\n",
       "  'techniques': 1,\n",
       "  'more': 2,\n",
       "  'structured': 1,\n",
       "  'African': 1,\n",
       "  '1⁄900': 1,\n",
       "  'beyond': 1,\n",
       "  'automated': 1,\n",
       "  'sequence': 1,\n",
       "  'notes': 1,\n",
       "  'or': 2,\n",
       "  'pitches': 1,\n",
       "  'it.What': 1,\n",
       "  'will': 1,\n",
       "  'familiar': 1,\n",
       "  'examples': 1,\n",
       "  'noise': 3,\n",
       "  ':': 4,\n",
       "  'environmental': 1,\n",
       "  'consists': 1,\n",
       "  'abbey': 1,\n",
       "  'Nutria': 1,\n",
       "  'fox': 1,\n",
       "  'triomphe': 1,\n",
       "  '(': 4,\n",
       "  '1.2': 2,\n",
       "  'million': 3,\n",
       "  ')': 3,\n",
       "  'centre': 1,\n",
       "  'pompidou': 1,\n",
       "  'mont': 1,\n",
       "  'saint-michel': 1,\n",
       "  '1': 1,\n",
       "  '..': 3,\n",
       "  'Open': 1,\n",
       "  'corruption': 1,\n",
       "  'secondary': 1,\n",
       "  'winding': 1,\n",
       "  'complicated': 1,\n",
       "  'molecules': 1,\n",
       "  'became': 1,\n",
       "  'measuring': 1,\n",
       "  'option': 1,\n",
       "  'tumblr': 1,\n",
       "  \"'s\": 1,\n",
       "  'reblog': 1,\n",
       "  'function': 1,\n",
       "  'businesses': 1,\n",
       "  'have': 1,\n",
       "  'destructive': 1,\n",
       "  'effect': 1,\n",
       "  'on': 1,\n",
       "  'Population': 1,\n",
       "  ';': 1,\n",
       "  'issues': 1,\n",
       "  'sufficient': 1,\n",
       "  'political': 1,\n",
       "  'power': 1,\n",
       "  'was': 1,\n",
       "  'exercised': 1,\n",
       "  'solely': 1,\n",
       "  'Biological': 1,\n",
       "  'basis': 1,\n",
       "  'vision': 1,\n",
       "  'method': 1,\n",
       "  'historical': 1,\n",
       "  'sociology': 1,\n",
       "  '1984': 1,\n",
       "  'thompson': 1,\n",
       "  'e': 1,\n",
       "  'Board': 1,\n",
       "  'options': 1,\n",
       "  '``': 2,\n",
       "  '...': 1,\n",
       "  'best': 1,\n",
       "  'world': 1,\n",
       "  'washington': 1,\n",
       "  'd.c.': 1,\n",
       "  'national': 1,\n",
       "  'geographic': 1,\n",
       "  'magazine': 1,\n",
       "  'Problem': 1,\n",
       "  'for': 1,\n",
       "  'lower': 1,\n",
       "  'energy': 1,\n",
       "  'present': 1,\n",
       "  'well': 1,\n",
       "  'Two': 1,\n",
       "  'names': 1,\n",
       "  'integrate': 1,\n",
       "  'into': 1,\n",
       "  'society': 1,\n",
       "  'result': 1,\n",
       "  'an': 1,\n",
       "  'increasing': 1,\n",
       "  'recent': 1,\n",
       "  'epidemic': 1,\n",
       "  '735–737': 1,\n",
       "  'Schooner': 1,\n",
       "  'exact': 1,\n",
       "  'employs': 1,\n",
       "  'voseo': 1,\n",
       "  'use': 2,\n",
       "  'holes': 1,\n",
       "  'Societies': 1,\n",
       "  'before': 1,\n",
       "  '1990s': 1,\n",
       "  'including': 1,\n",
       "  '1976': 1,\n",
       "  'summer': 1,\n",
       "  'olympics': 1,\n",
       "  'but': 1,\n",
       "  'Sailing': 1,\n",
       "  'towpath': 1,\n",
       "  'one': 1,\n",
       "  'race': 1,\n",
       "  'Financed': 1,\n",
       "  'through': 1,\n",
       "  'oxygen': 1,\n",
       "  'atom': 1,\n",
       "  'chemical': 1,\n",
       "  'element': 1,\n",
       "  'female': 1,\n",
       "  'we': 1}]"
      ]
     },
     "execution_count": 24,
     "metadata": {},
     "output_type": "execute_result"
    }
   ],
   "source": [
    "doc_pair_list"
   ]
  },
  {
   "cell_type": "code",
   "execution_count": 25,
   "id": "d499c163",
   "metadata": {},
   "outputs": [
    {
     "data": {
      "text/plain": [
       "(array([ 0,  0,  0,  1,  0,  1,  0,  0,  0,  0,  0,  1,  0,  0,  1,  0,  3,\n",
       "         1,  0,  0,  1,  1,  1,  1,  0,  1,  1,  0,  0,  0,  1,  1,  0,  0,\n",
       "         1,  0,  0,  0,  1,  0,  1,  0,  0,  0,  1,  0,  1,  0,  1,  0,  1,\n",
       "         1,  1,  0,  0,  0,  0,  1,  1,  0,  1,  0,  1,  1,  0,  1,  1,  0,\n",
       "         0,  0,  0,  0,  1,  7,  1,  0,  0,  0,  0,  1,  0,  1,  1,  1,  1,\n",
       "         1,  1,  0,  1,  0,  1,  1,  1,  1,  0,  0,  0,  0,  0,  0,  0,  1,\n",
       "         1,  1,  1,  0,  1,  0,  1,  0,  0,  0,  0,  0,  0,  1,  1,  0,  1,\n",
       "         0,  1,  1,  1,  0,  1,  1,  0,  0,  0,  0,  0,  1,  1, 16,  1,  0,\n",
       "         0,  0,  0,  0,  0,  0,  1,  0,  0,  1,  0,  0,  0,  0,  1,  0,  0,\n",
       "         1,  1,  1,  1,  0,  0,  1,  0,  0,  1,  0,  0,  0,  0,  4,  1,  0,\n",
       "         0,  0,  1,  0,  0,  1,  0,  0,  0,  0,  1,  0,  0,  0,  0,  0,  1,\n",
       "         1,  1,  1,  0,  1,  0,  1,  1,  1,  0,  1,  0,  0,  0,  0,  4,  0,\n",
       "         1,  1,  1,  0,  1,  0,  0,  1,  0,  1,  0,  0,  0,  1,  0,  1,  0,\n",
       "         0,  0,  0,  1,  0,  1,  1,  0,  0,  1,  0, 11,  0,  2,  0,  0,  0,\n",
       "         1,  1,  0,  0,  0,  0,  1,  1,  0,  0,  1,  1,  0,  0,  0,  1,  1,\n",
       "         1,  0,  0,  0,  0,  0,  1,  1,  1,  0,  1,  1,  0,  0,  1,  0,  1,\n",
       "         1,  1,  0,  1,  0,  0,  0,  1,  0,  0,  1,  0,  0,  0,  0,  1,  0,\n",
       "         0,  0,  0,  2,  0,  0,  0,  0,  0,  1,  1,  0,  0,  1,  0,  0,  1,\n",
       "         0,  0,  1,  0,  1]),\n",
       " array([ 3,  1,  1,  8,  1,  0,  1,  2,  1,  1,  1,  1,  1,  1,  0,  1,  0,\n",
       "         0,  1,  1,  0,  0,  0,  0,  1,  1,  0,  1,  2,  1,  0,  0,  1,  1,\n",
       "         0,  1,  1,  1,  0,  1,  0,  1,  1,  1,  0,  1,  0,  1,  0,  1,  0,\n",
       "         0,  0,  1,  1,  1,  1,  0,  0,  1,  0,  2,  1,  0,  1,  0,  0,  1,\n",
       "         1,  1,  1,  1,  0, 13,  2,  1,  1,  1,  1,  0,  1,  0,  0,  0,  0,\n",
       "         0,  0,  1,  0,  1,  0,  0,  0,  0,  1,  1,  1,  1,  1,  2,  1,  0,\n",
       "         0,  0,  0,  1,  0,  1,  0,  1,  1,  1,  1,  1,  1,  2,  0,  1,  0,\n",
       "         1,  0,  0,  0,  4,  0,  0,  1,  1,  1,  3,  1,  0,  0, 28,  0,  1,\n",
       "         4,  1,  1,  1,  1,  1,  0,  1,  1,  0,  1,  1,  1,  1,  0,  1,  1,\n",
       "         0,  0,  0,  0,  1,  1,  0,  1,  1,  0,  1,  1,  2,  1,  7,  0,  1,\n",
       "         1,  1,  0,  1,  1,  0,  1,  1,  1,  1,  0,  1,  1,  1,  1,  1,  0,\n",
       "         0,  0,  0,  1,  0,  1,  0,  0,  0,  1,  0,  1,  1,  1,  1,  6,  1,\n",
       "         0,  0,  0,  1,  0,  1,  1,  0,  1,  0,  1,  1,  1,  0,  1,  0,  1,\n",
       "         1,  1,  1,  0,  1,  0,  1,  1,  2,  0,  1, 14,  1,  3,  1,  1,  1,\n",
       "         0,  0,  1,  3,  1,  1,  0,  0,  2,  1,  0,  0,  1,  1,  1,  0,  0,\n",
       "         0,  1,  1,  1,  1,  1,  0,  0,  0,  1,  0,  0,  1,  1,  0,  1,  1,\n",
       "         0,  7,  1,  0,  1,  1,  1,  0,  1,  1,  0,  2,  1,  1,  1,  0,  1,\n",
       "         1,  1,  1,  4,  1,  1,  1,  1,  1,  0,  0,  1,  1,  0,  1,  1,  0,\n",
       "         1,  1,  0,  1,  0]))"
      ]
     },
     "execution_count": 25,
     "metadata": {},
     "output_type": "execute_result"
    }
   ],
   "source": [
    "densevectors_asnparray(doc_pair_list[0],doc_pair_list[1])"
   ]
  },
  {
   "cell_type": "markdown",
   "id": "bff0aff2",
   "metadata": {},
   "source": [
    "Creation of the function to calculate the modulus of a vector and the cosine similarity by looping over individual element in the vector ie vector "
   ]
  },
  {
   "cell_type": "code",
   "execution_count": 26,
   "id": "33266125",
   "metadata": {},
   "outputs": [],
   "source": [
    "def modvec(vec): # Function to calculate the modulus of a vector\n",
    "  sum = 0\n",
    "  for i in vec:\n",
    "    sum += i**2\n",
    "  return np.sqrt(sum)\n",
    "\n",
    "def cosinesim_dot(A,B):# function to calculate the cosine similarity by looping over individual element in the vector ie vector iteration\n",
    "  sum = 0\n",
    "  for i in range(len(A)):\n",
    "    sum += A[i]*B[i]\n",
    "\n",
    "  modA = modvec(A)\n",
    "  modB = modvec(B)\n",
    "\n",
    "  k = modA*modB\n",
    "\n",
    "  return round(sum/k,4)"
   ]
  },
  {
   "cell_type": "markdown",
   "id": "5e3187aa",
   "metadata": {},
   "source": [
    "We test the cosine similarity from dense vector function with the time function.\n",
    "\n",
    "The number of paragraphs will increase in intervals of 10, starting from 100 paragraphs (5000 words) to 1000 paragraphs (50000 words):"
   ]
  },
  {
   "cell_type": "code",
   "execution_count": 28,
   "id": "f937279d",
   "metadata": {},
   "outputs": [],
   "source": [
    "xs=[]\n",
    "ys_cosine_vector_test1=[]\n",
    "for i in range(100,1000,10):\n",
    "    densevector1=densevectors_asnparray(create_docdicts(2,i)[0],create_docdicts(2,i)[1])\n",
    "    y,z=timeit(cosinesim_dot,densevector1[0],densevector1[1])\n",
    "    xs.append(i)\n",
    "    ys_cosine_vector_test1.append(y)\n"
   ]
  },
  {
   "cell_type": "code",
   "execution_count": 378,
   "id": "9590aa52",
   "metadata": {},
   "outputs": [
    {
     "name": "stdout",
     "output_type": "stream",
     "text": [
      "[0.0033628273010253905, 0.0036665844917297364, 0.003806171417236328, 0.004191274642944336, 0.004679481983184814, 0.0049681997299194335, 0.005970487594604492, 0.00558330774307251, 0.005878419876098633, 0.00581592321395874, 0.006309375762939453, 0.006145188808441162, 0.00666379451751709, 0.006386494636535645, 0.006724009513854981, 0.007327821254730225, 0.007600393295288086, 0.007398345470428467, 0.007768042087554931, 0.010011847019195557, 0.008078322410583497, 0.008135554790496826, 0.008338215351104737, 0.008555276393890381, 0.008158950805664063, 0.009096314907073974, 0.009484534263610839, 0.008497474193572998, 0.008767266273498536, 0.009334533214569092, 0.008702695369720459, 0.009701943397521973, 0.009334714412689208, 0.009837050437927247, 0.009631798267364503, 0.009691944122314453, 0.009940521717071533, 0.009898936748504639, 0.010157878398895264, 0.010040130615234375, 0.010175437927246093, 0.010506143569946289, 0.010748727321624756, 0.010659909248352051, 0.011658289432525636, 0.011089024543762207, 0.011090848445892334, 0.012330703735351563, 0.012591452598571777, 0.014529671669006348, 0.0125675368309021, 0.013433973789215087, 0.012086029052734376, 0.01244873046875, 0.012458469867706299, 0.013001387119293212, 0.013119649887084962, 0.01243891716003418, 0.012724776268005372, 0.013403222560882569, 0.013339707851409912, 0.013539586067199707, 0.013922436237335205, 0.015037376880645752, 0.013317053318023681, 0.01554002046585083, 0.014356932640075683, 0.013881373405456542, 0.014292247295379638, 0.014618446826934814, 0.014188385009765625, 0.015188322067260743, 0.014707012176513672, 0.015022547245025634, 0.015470080375671387, 0.01640343189239502, 0.014772260189056396, 0.014814987182617187, 0.01593040466308594, 0.015120148658752441, 0.015349881649017334, 0.017157506942749024, 0.016214587688446046, 0.015560963153839112, 0.015737810134887696, 0.015793352127075194, 0.015799539089202883, 0.016369040012359618, 0.016831724643707274, 0.017690770626068116]\n"
     ]
    }
   ],
   "source": [
    "print(ys_cosine_vector_test1)"
   ]
  },
  {
   "cell_type": "code",
   "execution_count": 31,
   "id": "c8bd8c1e",
   "metadata": {},
   "outputs": [
    {
     "data": {
      "text/plain": [
       "[<matplotlib.lines.Line2D at 0x1f7a1c8e2b0>]"
      ]
     },
     "execution_count": 31,
     "metadata": {},
     "output_type": "execute_result"
    },
    {
     "data": {
      "image/png": "[encoded data removed]",
      "text/plain": [
       "<Figure size 640x480 with 1 Axes>"
      ]
     },
     "metadata": {},
     "output_type": "display_data"
    }
   ],
   "source": [
    "import matplotlib.pyplot as plt\n",
    "#plt.ylim(0,0.05)\n",
    "plt.plot(xs,ys_cosine_vector_test1)"
   ]
  },
  {
   "cell_type": "code",
   "execution_count": 30,
   "id": "53f5d01e",
   "metadata": {},
   "outputs": [
    {
     "data": {
      "image/png": "[encoded data removed]",
      "text/plain": [
       "<Figure size 640x480 with 1 Axes>"
      ]
     },
     "metadata": {},
     "output_type": "display_data"
    }
   ],
   "source": [
    "# Converting each element in the bag size list and the run time list to logarithmic vlaues with base 10\n",
    "logx = [ np.log10(i )for i in xs]\n",
    "logy = [np.log10(i) for i in ys_cosine_vector_test1]\n",
    "#plotting the graph between the log values\n",
    "\n",
    "plt.scatter(logx,logy)\n",
    "plt.ylabel(\"Log mean Cosine Runtime\")\n",
    "plt.xlabel('Log of Bag Size')\n",
    "plt.show()"
   ]
  },
  {
   "cell_type": "code",
   "execution_count": 33,
   "id": "e36fb890",
   "metadata": {},
   "outputs": [
    {
     "name": "stdout",
     "output_type": "stream",
     "text": [
      "The slope is 0.64926654349524, the constant for the computation is 0.00018653356062228998 and the intercept  is -3.7292430197168156\n"
     ]
    }
   ],
   "source": [
    "import scipy.stats as stats\n",
    "\n",
    "slope_jaccard,intercept, r_value, p_value ,std_err = stats.linregress(logx,logy)\n",
    "constant = np.power(10,intercept)\n",
    "print('The slope is {}, the constant for the computation is {} and the intercept  is {}'.format(slope_jaccard,constant,intercept))"
   ]
  },
  {
   "cell_type": "markdown",
   "id": "3b606358",
   "metadata": {},
   "source": [
    "Now we redefine the function to use a numpy module"
   ]
  },
  {
   "cell_type": "code",
   "execution_count": 34,
   "id": "f9613a0e",
   "metadata": {},
   "outputs": [],
   "source": [
    "# funcion to calculate cosine similarity using numpy module\n",
    "def cosinesim_numpy(A,B):\n",
    "  \n",
    "  \n",
    "  modA = np.sqrt(np.dot(A,A))\n",
    "  modB = np.sqrt(np.dot(B,B))\n",
    "  AdotB = np.dot(A,B)\n",
    "  x = modA * modB\n",
    "\n",
    "  cosinesimilarity = AdotB/x\n",
    "\n",
    "  return round(cosinesimilarity,4)"
   ]
  },
  {
   "cell_type": "markdown",
   "id": "e99dc915",
   "metadata": {},
   "source": [
    "We test the cosine similarity from dense vector function using numpy module with the time function.\n",
    "\n",
    "The number of paragraphs will increase in intervals of 10, starting from 100 paragraphs (5000 words) to 1000 paragraphs (50000 words):"
   ]
  },
  {
   "cell_type": "code",
   "execution_count": 41,
   "id": "649131ce",
   "metadata": {},
   "outputs": [],
   "source": [
    "xs=[]\n",
    "ys_cosine_numpy_test1=[]\n",
    "\n",
    "for i in range(100,1000,10):\n",
    "    densevector1=densevectors_asnparray(create_docdicts(2,i)[0],create_docdicts(2,i)[1])\n",
    "    y,z=timeit(cosinesim_numpy,densevector1[0],densevector1[1])\n",
    "    xs.append(i)\n",
    "    ys_cosine_numpy_test1.append(y)"
   ]
  },
  {
   "cell_type": "code",
   "execution_count": 43,
   "id": "5b9781ad",
   "metadata": {},
   "outputs": [
    {
     "name": "stdout",
     "output_type": "stream",
     "text": [
      "[0.0, 0.0, 2.0194053649902344e-05, 2.5746822357177733e-05, 1.922130584716797e-05, 2.0003318786621095e-05, 0.0, 0.0, 0.0, 3.001689910888672e-05, 0.0, 3.350496292114258e-05, 2.9900074005126952e-05, 0.0, 1.9843578338623048e-05, 0.0, 1.9965171813964843e-05, 2.999067306518555e-05, 0.0, 2.999067306518555e-05, 0.0, 0.0, 2.9790401458740235e-05, 0.0, 0.0, 3.002166748046875e-05, 2.9978752136230468e-05, 2.9006004333496093e-05, 2.997159957885742e-05, 0.0, 3.973722457885742e-05, 2.9916763305664063e-05, 0.0, 3.9989948272705076e-05, 0.00015640974044799804, 3.0827522277832034e-05, 0.00015627384185791016, 0.0, 2.9978752136230468e-05, 0.0, 0.0001579618453979492, 3.916025161743164e-05, 0.0, 3.995656967163086e-05, 2.999544143676758e-05, 0.0, 0.0, 3.9958953857421874e-05, 4.080533981323242e-05, 3.995418548583985e-05, 3.9696693420410156e-05, 3.5114288330078125e-05, 5.9092044830322264e-05, 4.581451416015625e-05, 3.998756408691406e-05, 4.006147384643555e-05, 3.026247024536133e-05, 0.0, 4.052400588989258e-05, 3.9989948272705076e-05, 0.0, 8.365631103515625e-05, 0.0, 0.0, 0.0, 0.0, 0.00015626907348632814, 4.0030479431152345e-05, 0.0, 0.0, 0.0001562047004699707, 4.961013793945313e-05, 4.007339477539063e-05, 0.0, 3.9713382720947264e-05, 0.0, 4.091024398803711e-05, 0.00015604496002197266, 5.0835609436035156e-05, 6.531715393066406e-05, 0.00019149065017700194, 3.920793533325195e-05, 0.0, 4.001379013061524e-05, 0.0, 0.0, 3.997564315795898e-05, 4.997730255126953e-05, 8.980751037597656e-05, 3.9989948272705076e-05]\n"
     ]
    }
   ],
   "source": [
    "print(ys_cosine_numpy_test1)"
   ]
  },
  {
   "cell_type": "code",
   "execution_count": 44,
   "id": "90549906",
   "metadata": {},
   "outputs": [
    {
     "data": {
      "text/plain": [
       "[<matplotlib.lines.Line2D at 0x1f7a2caedf0>]"
      ]
     },
     "execution_count": 44,
     "metadata": {},
     "output_type": "execute_result"
    },
    {
     "data": {
      "image/png": "[encoded data removed]",
      "text/plain": [
       "<Figure size 640x480 with 1 Axes>"
      ]
     },
     "metadata": {},
     "output_type": "display_data"
    }
   ],
   "source": [
    "import matplotlib.pyplot as plt\n",
    "#plt.ylim(0,0.05)\n",
    "plt.plot(xs,ys_cosine_numpy_test1)"
   ]
  },
  {
   "cell_type": "code",
   "execution_count": 45,
   "id": "5a0ce086",
   "metadata": {},
   "outputs": [
    {
     "name": "stderr",
     "output_type": "stream",
     "text": [
      "C:\\Users\\FelipeMartin\\AppData\\Local\\Temp\\ipykernel_32808\\2914412237.py:3: RuntimeWarning: divide by zero encountered in log10\n",
      "  logy = [np.log10(i) for i in ys_cosine_numpy_test1 ]\n"
     ]
    },
    {
     "data": {
      "image/png": "[encoded data removed]",
      "text/plain": [
       "<Figure size 640x480 with 1 Axes>"
      ]
     },
     "metadata": {},
     "output_type": "display_data"
    }
   ],
   "source": [
    "# Converting each element in the bag size list and the run time list to logarithmic vlaues with base 10\n",
    "logx = [ np.log10(i)for i in xs ]\n",
    "logy = [np.log10(i) for i in ys_cosine_numpy_test1 ]\n",
    "\n",
    "#plotting the graph between the log values\n",
    "plt.scatter(logx,logy)\n",
    "plt.ylabel(\"Log mean Cosine Runtime\")\n",
    "plt.xlabel('Log of Bag Size')\n",
    "plt.show()"
   ]
  },
  {
   "cell_type": "markdown",
   "id": "4ba82a3f",
   "metadata": {},
   "source": [
    "#### Estimate the constant for my implementation and computer.\n",
    "We observe that in the case of cosine_vector the response time grows in a linear fashion as the number of paragraphs increases in intervals of 10, starting from 100 paragraphs (5000 words) to 1000 paragraphs (50000 words) and that there is a clear reduction of the execution time when using the numpy function.\n",
    "\n",
    "According to the second chart of worst- case running time of cosine_vector's similarity measure. Its gradient and intercept were approximately 0.64 and -3.72 respectively. So $𝑐𝑎≈10^{−3.72}\\approx 0.00001$. Based on this analysis, I estimate the worst running time $y\\approx c_a.x^{0.64} $. This illustrates that empirically we have $  𝑂(𝑛^{0.64})$ which is slightly better than $𝑂(𝑛)$.  In the case of cosine numpy, it appears to be a runtime $𝑂(1)$, since, it remains constant between 0 and 0.000175. "
   ]
  },
  {
   "cell_type": "markdown",
   "id": "3df70e69",
   "metadata": {},
   "source": [
    "# Running time analysis for Cosine Similarity from sparse representation <a class=\"anchor\" id=\"fourth-bullet\"></a>"
   ]
  },
  {
   "cell_type": "markdown",
   "id": "8ef57d71",
   "metadata": {},
   "source": [
    "Write a function which computes cosine similarity directly from sparse (dictionary) representations without converting them into dense (vector) representations. Test your function for correctness and compare its efficiency theoretically and empirically to (i) your previous implementation of the cosine similarity, and (ii) your implementation of Jaccard’s measure."
   ]
  },
  {
   "cell_type": "code",
   "execution_count": 47,
   "id": "e241b339",
   "metadata": {},
   "outputs": [],
   "source": [
    "def dot(d1,d2):#Here the inputs are dictionaries\n",
    "    if len(d1) < len(d2):\n",
    "        a = d1\n",
    "        b = d2\n",
    "    else:\n",
    "        a = d2\n",
    "        b = d1\n",
    "    dotproduct = 0\n",
    "    #for each key in the dictionary1, if there is similar key in dictionary2, then the values of both the keys are multiplied and added to the 'dotproduct' \n",
    "    for word,count in a.items():\n",
    "        dotproduct += count * b.get(word,0)\n",
    "    return dotproduct\n",
    "\n",
    "def cosinesim_sparse(d1,d2):\n",
    "    numerator = dot(d1,d2)# calls the dot function created earlier\n",
    "    denominator = np.sqrt(dot(d1,d1)*dot(d2,d2))\n",
    "    return round(numerator/denominator,4)"
   ]
  },
  {
   "cell_type": "code",
   "execution_count": 48,
   "id": "6ea41ad9",
   "metadata": {},
   "outputs": [
    {
     "data": {
      "text/plain": [
       "0.8473"
      ]
     },
     "execution_count": 48,
     "metadata": {},
     "output_type": "execute_result"
    }
   ],
   "source": [
    "cosinesim_sparse(create_docdicts(2,3)[0],create_docdicts(2,3)[1])"
   ]
  },
  {
   "cell_type": "markdown",
   "id": "9262b35f",
   "metadata": {},
   "source": [
    "We test the cosine similarity from matrix (sparse) function with the time function.\n",
    "\n",
    "The number of paragraphs will increase in intervals of 10, starting from 100 paragraphs (5000 words) to 1000 paragraphs (50000 words):"
   ]
  },
  {
   "cell_type": "code",
   "execution_count": 49,
   "id": "58755537",
   "metadata": {},
   "outputs": [],
   "source": [
    "xs=[]\n",
    "ys_cosine_sparse_test1=[]\n",
    "for i in range(100,1000,10):\n",
    "    sparse=create_docdicts(2,i)\n",
    "    y,z=timeit(cosinesim_sparse,sparse[0],sparse[1])\n",
    "    xs.append(i)\n",
    "    ys_cosine_sparse_test1.append(y)\n"
   ]
  },
  {
   "cell_type": "code",
   "execution_count": 50,
   "id": "341b2eb3",
   "metadata": {},
   "outputs": [
    {
     "name": "stdout",
     "output_type": "stream",
     "text": [
      "[0.0011563420295715332, 0.0013459300994873046, 0.0016862249374389648, 0.001918966770172119, 0.0014395260810852052, 0.0017935681343078614, 0.0016488909721374511, 0.0019409942626953125, 0.0022780156135559083, 0.002240262031555176, 0.0030517292022705076, 0.002930772304534912, 0.002194826602935791, 0.0021874475479125976, 0.002409076690673828, 0.002564685344696045, 0.002354393005371094, 0.002911264896392822, 0.0026562666893005372, 0.0027689838409423826, 0.0031545019149780275, 0.002870829105377197, 0.0031210660934448244, 0.0033977532386779783, 0.0037567591667175292, 0.004120876789093017, 0.0034581708908081057, 0.003501763343811035, 0.0033319711685180662, 0.0034518909454345705, 0.003705391883850098, 0.003987410068511963, 0.005027403831481933, 0.0059504079818725585, 0.0038432884216308594, 0.006545672416687012, 0.004427165985107422, 0.004210708141326905, 0.005277481079101563, 0.00513047456741333, 0.005831906795501709, 0.006130506992340088, 0.006459660530090332, 0.004656858444213867, 0.006603202819824219, 0.005889887809753418, 0.005851593017578125, 0.005913758277893066, 0.005371541976928711, 0.005420594215393066, 0.006546316146850586, 0.006071209907531738, 0.007261729240417481, 0.005416643619537353, 0.0065926194190979006, 0.007366528511047363, 0.0051366639137268065, 0.007459075450897217, 0.0055055046081542965, 0.0054853582382202145, 0.006687400341033936, 0.009126300811767579, 0.00795076608657837, 0.0075152039527893065, 0.008696072101593018, 0.0059886002540588375, 0.008894002437591553, 0.005905849933624268, 0.005756728649139405, 0.010154924392700194, 0.005961892604827881, 0.006346371173858643, 0.006846306324005127, 0.007231085300445556, 0.0127840256690979, 0.008104152679443359, 0.008176984786987305, 0.008166553974151612, 0.007675571441650391, 0.009054017066955567, 0.0076369309425354005, 0.00734428882598877, 0.006936469078063965, 0.00821164608001709, 0.007685415744781494, 0.009041566848754883, 0.009624502658843993, 0.009069113731384278, 0.0071413636207580565, 0.00990628719329834]\n"
     ]
    }
   ],
   "source": [
    "print(ys_cosine_sparse_test1)"
   ]
  },
  {
   "cell_type": "code",
   "execution_count": 388,
   "id": "39258946",
   "metadata": {},
   "outputs": [
    {
     "data": {
      "text/plain": [
       "[<matplotlib.lines.Line2D at 0x1e7a811fa00>]"
      ]
     },
     "execution_count": 388,
     "metadata": {},
     "output_type": "execute_result"
    },
    {
     "data": {
      "image/png": "[encoded data removed]",
      "text/plain": [
       "<Figure size 640x480 with 1 Axes>"
      ]
     },
     "metadata": {},
     "output_type": "display_data"
    }
   ],
   "source": [
    "import matplotlib.pyplot as plt\n",
    "#plt.ylim(0,0.05)\n",
    "plt.plot(xs,ys_cosine_sparse_test1)"
   ]
  },
  {
   "cell_type": "code",
   "execution_count": 389,
   "id": "9ce678c4",
   "metadata": {},
   "outputs": [
    {
     "data": {
      "image/png": "[encoded data removed]",
      "text/plain": [
       "<Figure size 640x480 with 1 Axes>"
      ]
     },
     "metadata": {},
     "output_type": "display_data"
    }
   ],
   "source": [
    "# Converting each element in the bag size list and the run time list to logarithmic vlaues with base 10\n",
    "logx = [ np.log10(i )for i in xs]\n",
    "logy = [np.log10(i) for i in ys_cosine_sparse_test1]\n",
    "#plotting the graph between the log values\n",
    "\n",
    "plt.scatter(logx,logy)\n",
    "plt.ylabel(\"Log mean Cosine Runtime\")\n",
    "plt.xlabel('Log of Bag Size')\n",
    "plt.show()"
   ]
  },
  {
   "cell_type": "code",
   "execution_count": 390,
   "id": "da0730bf",
   "metadata": {},
   "outputs": [
    {
     "name": "stdout",
     "output_type": "stream",
     "text": [
      "The slope is 0.9505367177737024 and the Constant for the computation is 1.5585709548423798e-05\n"
     ]
    }
   ],
   "source": [
    "import scipy.stats as stats\n",
    "\n",
    "slope_jaccard,intercept, r_value, p_value ,std_err = stats.linregress(logx,logy)\n",
    "constant = np.power(10,intercept)\n",
    "print('The slope is {}, the constant for the computation is {} and the intercept  is {}'.format(slope_jaccard,constant,intercept))"
   ]
  },
  {
   "cell_type": "markdown",
   "id": "e0b4926d",
   "metadata": {},
   "source": [
    "## Graph of all similarity measures (pair of documents)"
   ]
  },
  {
   "cell_type": "code",
   "execution_count": 392,
   "id": "875687bb",
   "metadata": {},
   "outputs": [
    {
     "data": {
      "text/plain": [
       "<matplotlib.legend.Legend at 0x1e7aa3e67f0>"
      ]
     },
     "execution_count": 392,
     "metadata": {},
     "output_type": "execute_result"
    },
    {
     "data": {
      "image/png": "[encoded data removed]",
      "text/plain": [
       "<Figure size 640x480 with 1 Axes>"
      ]
     },
     "metadata": {},
     "output_type": "display_data"
    }
   ],
   "source": [
    "import matplotlib.pyplot as plt\n",
    "#plt.ylim(0,0.05)\n",
    "plt.plot(xs,ys_jaccard_test1)\n",
    "plt.plot(xs,ys_cosine_vector_test1)\n",
    "plt.plot(xs,ys_cosine_numpy_test1)\n",
    "plt.plot(xs,ys_cosine_sparse_test1)\n",
    "label=['jaccard','cosine_vector','cosine_numpy','cosine_sparse']\n",
    "plt.legend(label, loc =1 , ncol = 2)"
   ]
  },
  {
   "cell_type": "markdown",
   "id": "2e83ddbe",
   "metadata": {},
   "source": [
    "Analyzing all the measurement methodologies, we observe that the best execution time is with cosine numpy with a constant value, followed by cosine sparse and jaccard. The worst execution time is with cosine vector."
   ]
  },
  {
   "cell_type": "markdown",
   "id": "8db3e961",
   "metadata": {},
   "source": [
    "# Running time analysis for All-pairs Similarity  <a class=\"anchor\" id=\"fifth-bullet\"></a>"
   ]
  },
  {
   "cell_type": "markdown",
   "id": "c267097b",
   "metadata": {},
   "source": [
    "Write a function which computes all-pairs similarities for a collection of documents. The function should take a list of dictionaries (the document collection) and a parameter specifying the similarity measure to be used. What is the theoretical worst-case running time for computing all-pairs similarities? Does it matter what the similarity measure is? Can you give an estimate of how long it would take to compute all-pairs similarities for 200K documents for both measures? (Note: that whilst you should test your function for all-pairs similarities (with d > 10), you do not need to prove the theoretical worst case empirically or test with 200K documents!)"
   ]
  },
  {
   "cell_type": "code",
   "execution_count": 327,
   "id": "138b4544",
   "metadata": {},
   "outputs": [
    {
     "data": {
      "text/plain": [
       "[{'Corneille': 1,\n",
       "  'heymans': 1,\n",
       "  'to': 4,\n",
       "  'frequent': 1,\n",
       "  'calls': 1,\n",
       "  'by': 4,\n",
       "  'alaskan': 1,\n",
       "  'businessman': 1,\n",
       "  'austin': 1,\n",
       "  'e.': 1,\n",
       "  'lathrop': 1,\n",
       "  'and': 16,\n",
       "  'filmed': 1,\n",
       "  'in': 9,\n",
       "  'the': 20,\n",
       "  '.': 48,\n",
       "  'The': 3,\n",
       "  'continent': 1,\n",
       "  'justice': 1,\n",
       "  'ministries': 1,\n",
       "  ',': 28,\n",
       "  'monitored': 1,\n",
       "  'congress': 1,\n",
       "  'it': 2,\n",
       "  'is': 3,\n",
       "  'virtually': 1,\n",
       "  'devoid': 1,\n",
       "  'And': 5,\n",
       "  'reproducible': 1,\n",
       "  ')': 7,\n",
       "  'commonly': 1,\n",
       "  'a': 7,\n",
       "  'chemical': 1,\n",
       "  'transformation': 1,\n",
       "  'juris': 1,\n",
       "  'doctor': 1,\n",
       "  'professional': 1,\n",
       "  'moons': 1,\n",
       "  'professor': 1,\n",
       "  '(': 4,\n",
       "  'socratic': 1,\n",
       "  'method': 1,\n",
       "  'many': 3,\n",
       "  'others': 1,\n",
       "  'work': 1,\n",
       "  'for': 1,\n",
       "  'federal': 1,\n",
       "  'agencies': 1,\n",
       "  'Obsolete': 1,\n",
       "  '1914': 1,\n",
       "  'montana': 1,\n",
       "  'granted': 1,\n",
       "  'women': 1,\n",
       "  'vote': 1,\n",
       "  'national': 2,\n",
       "  'Music': 1,\n",
       "  'gained': 1,\n",
       "  'mountain': 1,\n",
       "  'laurel': 1,\n",
       "  'milkweed': 1,\n",
       "  'daisies': 1,\n",
       "  'political': 1,\n",
       "  'changes': 1,\n",
       "  'mexican–american': 1,\n",
       "  'war': 1,\n",
       "  '1990s': 1,\n",
       "  'times': 1,\n",
       "  '78,663': 1,\n",
       "  'as': 5,\n",
       "  'of': 15,\n",
       "  '2010': 1,\n",
       "  '..': 5,\n",
       "  'Often': 1,\n",
       "  'using': 1,\n",
       "  '400': 1,\n",
       "  'catalogues': 1,\n",
       "  'points': 1,\n",
       "  'better': 1,\n",
       "  'army': 1,\n",
       "  'has': 1,\n",
       "  'sixth': 1,\n",
       "  'most.–': 1,\n",
       "  'new': 1,\n",
       "  'organization': 1,\n",
       "  'founded': 1,\n",
       "  '1833': 1,\n",
       "  'fewer': 1,\n",
       "  'than': 1,\n",
       "  '200': 1,\n",
       "  'years': 1,\n",
       "  'north': 1,\n",
       "  'Sufficiently': 1,\n",
       "  'or': 1,\n",
       "  '``': 3,\n",
       "  'difference': 1,\n",
       "  'that': 1,\n",
       "  'makes': 1,\n",
       "  'situation': 1,\n",
       "  'both': 1,\n",
       "  '∫': 1,\n",
       "  'process': 2,\n",
       "  'will': 1,\n",
       "  '80,579': 1,\n",
       "  'portuguese': 1,\n",
       "  'soulwax': 1,\n",
       "  'deus': 1,\n",
       "  'are': 3,\n",
       "  'Like': 1,\n",
       "  'japan': 1,\n",
       "  'thalys': 1,\n",
       "  'eurostar': 1,\n",
       "  'tgv': 1,\n",
       "  'which': 3,\n",
       "  'travels': 1,\n",
       "  'at': 1,\n",
       "  '320': 1,\n",
       "  'km/h': 1,\n",
       "  'Paleocene': 1,\n",
       "  'epoch': 1,\n",
       "  'moreno': 1,\n",
       "  'glacier': 1,\n",
       "  'production': 1,\n",
       "  'signaling': 1,\n",
       "  'substances': 1,\n",
       "  'useful': 1,\n",
       "  'identifying': 1,\n",
       "  'France': 1,\n",
       "  'together': 1,\n",
       "  'calamities': 1,\n",
       "  'disasters': 1,\n",
       "  'localized': 1,\n",
       "  'areas': 1,\n",
       "  'its': 1,\n",
       "  'most': 2,\n",
       "  'important': 2,\n",
       "  'March': 1,\n",
       "  'calderón': 1,\n",
       "  'made': 1,\n",
       "  'abating': 1,\n",
       "  'organized.Francis': 1,\n",
       "  'veber': 1,\n",
       "  'database': 1,\n",
       "  'global': 1,\n",
       "  'lake': 1,\n",
       "  'databasean': 1,\n",
       "  'As': 1,\n",
       "  'exemplified': 1,\n",
       "  'thereof': 1,\n",
       "  'specifically': 1,\n",
       "  'these': 2,\n",
       "  'were': 1,\n",
       "  'first': 1,\n",
       "  'newspaper': 1,\n",
       "  'south': 1,\n",
       "  'Clouds': 1,\n",
       "  'but': 2,\n",
       "  'private': 1,\n",
       "  'litigants': 1,\n",
       "  'was': 1,\n",
       "  'an': 3,\n",
       "  'role': 1,\n",
       "  'heat': 1,\n",
       "  'storage': 1,\n",
       "  'over': 1,\n",
       "  'seasonal': 1,\n",
       "  'erratic': 1,\n",
       "  'rainfall': 1,\n",
       "  'Household': 1,\n",
       "  'disposable': 1,\n",
       "  'extensive': 1,\n",
       "  'Northern': 1,\n",
       "  'northeastern': 1,\n",
       "  'overthrow': 1,\n",
       "  '284': 1,\n",
       "  'native': 1,\n",
       "  'real': 1,\n",
       "  'life': 1,\n",
       "  'socializing': 1,\n",
       "  \"''\": 3,\n",
       "  'reducing': 1,\n",
       "  'number': 1,\n",
       "  'other': 1,\n",
       "  'Experiments': 1,\n",
       "  'always': 1,\n",
       "  'culture': 1,\n",
       "  'predominate': 1,\n",
       "  'Mountains': 1,\n",
       "  'also': 3,\n",
       "  'southeastern': 1,\n",
       "  'bahamas': 1,\n",
       "  'alternative': 1,\n",
       "  'word': 1,\n",
       "  'with': 1,\n",
       "  'cognates': 1,\n",
       "  'Each': 1,\n",
       "  'robot': 1,\n",
       "  'collapse': 1,\n",
       "  'japonic': 1,\n",
       "  'language': 1,\n",
       "  'family': 1,\n",
       "  'Afro-descendant': 1,\n",
       "  'heritage': 1,\n",
       "  'public': 2,\n",
       "  'security': 1,\n",
       "  'force': 1,\n",
       "  'can': 2,\n",
       "  'act': 1,\n",
       "  'system': 1,\n",
       "  '200,000': 1,\n",
       "  'dokdo': 1,\n",
       "  'acknowledged': 1,\n",
       "  'not': 2,\n",
       "  'heating': 1,\n",
       "  'skiing': 1,\n",
       "  'rare': 1,\n",
       "  'situations': 1,\n",
       "  'Mechanics': 1,\n",
       "  ';': 3,\n",
       "  '4.0': 1,\n",
       "  'ha': 1,\n",
       "  'lakefront': 1,\n",
       "  'park': 1,\n",
       "  'surrounding': 1,\n",
       "  'three': 1,\n",
       "  'Both': 1,\n",
       "  'argentine': 1,\n",
       "  'shelf': 1,\n",
       "  'unusually': 1,\n",
       "  'hot': 1,\n",
       "  'sunny.All': 1,\n",
       "  'large': 1,\n",
       "  'military': 1,\n",
       "  'power': 1,\n",
       "  'Scatological': 1,\n",
       "  'scorecards': 1,\n",
       "  'characterizing': 1,\n",
       "  'an.City': 1,\n",
       "  'argentino': 1,\n",
       "  'entire': 1,\n",
       "  'twenty-seventh': 1,\n",
       "  'dynasty': 1,\n",
       "  'egypt': 1,\n",
       "  'however': 1,\n",
       "  'did': 1,\n",
       "  'begin': 1,\n",
       "  'explain': 1,\n",
       "  'such': 1,\n",
       "  'Warm': 1,\n",
       "  ':': 1,\n",
       "  'temperatures': 1,\n",
       "  'tides': 1,\n",
       "  'authority': 1,\n",
       "  'goods': 1,\n",
       "  'transported': 1,\n",
       "  'traditionally': 1,\n",
       "  'included': 1,\n",
       "  'slaves': 1,\n",
       "  'ivory': 1,\n",
       "  'Cheval': 1,\n",
       "  'formation': 1,\n",
       "  'within': 1,\n",
       "  'massive': 1,\n",
       "  'young': 1,\n",
       "  'stars': 1,\n",
       "  'produce': 1,\n",
       "  'version': 1,\n",
       "  'cash': 1,\n",
       "  'cab': 1,\n",
       "  'chicago': 1,\n",
       "  'dolls': 1,\n",
       "  '30': 1,\n",
       "  'For': 1,\n",
       "  'industrialists': 1,\n",
       "  'secular': 1,\n",
       "  'constitution': 1,\n",
       "  'supreme': 1,\n",
       "  'court': 1,\n",
       "  'We': 1,\n",
       "  'observe': 1,\n",
       "  'stippling': 1,\n",
       "  'Is': 1,\n",
       "  'participatory': 1,\n",
       "  'africa': 1,\n",
       "  'rising': 1,\n",
       "  'be': 1,\n",
       "  'referred': 1,\n",
       "  'lava': 1,\n",
       "  'Mt': 1,\n",
       "  'edgecumbe': 1,\n",
       "  'creator': 1,\n",
       "  '2000': 1,\n",
       "  'presidential': 1,\n",
       "  'campaigns': 1,\n",
       "  'Tough': 1,\n",
       "  'chaotically': 1,\n",
       "  'unstable': 1},\n",
       " {'Denial': 1,\n",
       "  'of': 15,\n",
       "  'being': 1,\n",
       "  'different': 2,\n",
       "  'molecules': 1,\n",
       "  '.': 57,\n",
       "  'however': 3,\n",
       "  'isomers': 1,\n",
       "  'can': 2,\n",
       "  'have': 1,\n",
       "  'Is': 2,\n",
       "  'additionally': 1,\n",
       "  'is': 6,\n",
       "  'november': 2,\n",
       "  'Movements': 1,\n",
       "  'elaborated': 1,\n",
       "  'sunspot': 1,\n",
       "  'cycle': 1,\n",
       "  '..': 7,\n",
       "  'Obstructions': 1,\n",
       "  'are': 9,\n",
       "  'thick': 1,\n",
       "  'atmospheres': 1,\n",
       "  'the': 17,\n",
       "  'himalayas': 1,\n",
       "  ',': 39,\n",
       "  'in': 2,\n",
       "  'americas': 1,\n",
       "  'which': 4,\n",
       "  'a': 6,\n",
       "  'single': 1,\n",
       "  'axis': 1,\n",
       "  'Are': 1,\n",
       "  'informed': 1,\n",
       "  'by': 3,\n",
       "  'settlements': 1,\n",
       "  'and': 10,\n",
       "  'helped': 1,\n",
       "  'to': 10,\n",
       "  'improve': 1,\n",
       "  'Days': 1,\n",
       "  'viewed': 1,\n",
       "  'memories': 1,\n",
       "  'an': 1,\n",
       "  'example': 1,\n",
       "  'france': 2,\n",
       "  'where': 2,\n",
       "  'profit': 1,\n",
       "  'mostly': 1,\n",
       "  '1926': 1,\n",
       "  'it': 2,\n",
       "  'catholics': 1,\n",
       "  'protestants': 1,\n",
       "  '(': 5,\n",
       "  'huguenots': 1,\n",
       "  ')': 4,\n",
       "  'became': 1,\n",
       "  'And': 2,\n",
       "  'charter': 1,\n",
       "  'kilogram': 1,\n",
       "  'or': 2,\n",
       "  '12': 1,\n",
       "  'grams': 1,\n",
       "  'carbon-12': 1,\n",
       "  'mountains': 1,\n",
       "  'Water': 1,\n",
       "  'cribs': 1,\n",
       "  'mcauley': 1,\n",
       "  'liberal': 1,\n",
       "  'arts': 1,\n",
       "  'high': 1,\n",
       "  'school': 2,\n",
       "  'de': 1,\n",
       "  'la': 1,\n",
       "  'torre': 1,\n",
       "  'miguel': 1,\n",
       "  'Research': 1,\n",
       "  'involving': 1,\n",
       "  'live': 1,\n",
       "  'on': 2,\n",
       "  'less': 1,\n",
       "  'able': 1,\n",
       "  'participants': 1,\n",
       "  'there': 2,\n",
       "  'has': 1,\n",
       "  'been': 1,\n",
       "  'championed': 1,\n",
       "  'as': 2,\n",
       "  'allowing': 1,\n",
       "  'anyone': 1,\n",
       "  'Good': 1,\n",
       "  ':': 3,\n",
       "  'strongly': 1,\n",
       "  'dependent': 1,\n",
       "  'upon': 1,\n",
       "  'each': 1,\n",
       "  'other': 3,\n",
       "  'Dewey': 1,\n",
       "  'pragmatic': 1,\n",
       "  'helplessness': 1,\n",
       "  \"''\": 3,\n",
       "  'that': 2,\n",
       "  'opposed': 1,\n",
       "  '2003': 1,\n",
       "  'invasion': 1,\n",
       "  'Deserts': 1,\n",
       "  'cloud': 1,\n",
       "  'genera': 1,\n",
       "  'and.Presence': 1,\n",
       "  'this': 1,\n",
       "  'consecutively': 1,\n",
       "  'for': 3,\n",
       "  'Republicans': 1,\n",
       "  'near': 1,\n",
       "  'poles': 1,\n",
       "  '7,000': 1,\n",
       "  'Paved': 1,\n",
       "  'runways': 1,\n",
       "  ';': 2,\n",
       "  'italian': 1,\n",
       "  'roman': 1,\n",
       "  'Kepler': 1,\n",
       "  'did': 1,\n",
       "  'listened': 1,\n",
       "  'media': 2,\n",
       "  'content': 1,\n",
       "  'creators': 1,\n",
       "  'Plain': 1,\n",
       "  'located': 1,\n",
       "  'those': 1,\n",
       "  'generally': 1,\n",
       "  'Twitter': 1,\n",
       "  'don': 1,\n",
       "  'maples': 1,\n",
       "  'alison': 1,\n",
       "  'packer': 1,\n",
       "  'making': 1,\n",
       "  'bahamas': 1,\n",
       "  'from': 2,\n",
       "  'slavery': 1,\n",
       "  'Highly': 1,\n",
       "  'values': 1,\n",
       "  'japan': 1,\n",
       "  'at': 1,\n",
       "  'openstreetmap': 1,\n",
       "  'list': 1,\n",
       "  'countries.Its': 1,\n",
       "  'website': 1,\n",
       "  'place': 1,\n",
       "  'news': 1,\n",
       "  'outlets': 1,\n",
       "  'meanwhile': 1,\n",
       "  'easy': 1,\n",
       "  'access': 1,\n",
       "  'improved': 1,\n",
       "  'Also': 1,\n",
       "  'touch': 1,\n",
       "  'types': 1,\n",
       "  'clayton': 1,\n",
       "  \"'s\": 3,\n",
       "  'idea': 1,\n",
       "  'formalize': 1,\n",
       "  'odds': 1,\n",
       "  'associated': 1,\n",
       "  'with': 2,\n",
       "  'second-largest': 1,\n",
       "  'dry': 1,\n",
       "  'Ban': 1,\n",
       "  'vehicle': 1,\n",
       "  'launch': 1,\n",
       "  'Avenue': 1,\n",
       "  '1919': 1,\n",
       "  'also': 2,\n",
       "  'Train': 1,\n",
       "  'congestion': 1,\n",
       "  'energy': 1,\n",
       "  'self-sufficiency': 1,\n",
       "  'Park': 1,\n",
       "  'virginia': 2,\n",
       "  'cavaliers': 1,\n",
       "  'tech': 1,\n",
       "  'Growth': 1,\n",
       "  'self-actualization': 1,\n",
       "  'direct': 1,\n",
       "  'journalism': 1,\n",
       "  'lending': 1,\n",
       "  '$': 1,\n",
       "  '1.5-billion': 1,\n",
       "  'project': 1,\n",
       "  'connect': 1,\n",
       "  'asia': 1,\n",
       "  'mortgages': 1,\n",
       "  'daily': 1,\n",
       "  'minimum': 1,\n",
       "  'wages': 1,\n",
       "  'set': 1,\n",
       "  'annually': 1,\n",
       "  'law': 1,\n",
       "  'Desire': 1,\n",
       "  'plot': 1,\n",
       "  'movement': 1,\n",
       "  'these': 1,\n",
       "  'schools': 1,\n",
       "  'run': 1,\n",
       "  'licensed': 1,\n",
       "  'Molecular': 1,\n",
       "  'structure': 1,\n",
       "  'stranger': 1,\n",
       "  'both': 1,\n",
       "  'consider': 1,\n",
       "  'themselves': 1,\n",
       "  'Exposed': 1,\n",
       "  'rocky': 1,\n",
       "  'televisa': 1,\n",
       "  'largest': 3,\n",
       "  'number': 1,\n",
       "  'days': 1,\n",
       "  'shellfish': 1,\n",
       "  'fur': 1,\n",
       "  'seal': 1,\n",
       "  'Of': 1,\n",
       "  'genji': 1,\n",
       "  'york': 1,\n",
       "  'paris': 1,\n",
       "  'europe': 1,\n",
       "  'studio': 1,\n",
       "  'early': 1,\n",
       "  'rich': 1,\n",
       "  'Perform': 1,\n",
       "  'sufficiently': 1,\n",
       "  'stream': 1,\n",
       "  'channels': 1,\n",
       "  'Undergraduates': 1,\n",
       "  'many': 2,\n",
       "  'specializations.Ensure': 1,\n",
       "  'station': 1,\n",
       "  'lories': 1,\n",
       "  'lorikeets': 1,\n",
       "  'tribe': 1,\n",
       "  'melopsittacini': 1,\n",
       "  'one': 1,\n",
       "  'genus': 1,\n",
       "  'Communist': 1,\n",
       "  'lawyers': 1,\n",
       "  'homer': 1,\n",
       "  'wrote': 1,\n",
       "  'various': 2,\n",
       "  'chemical': 1,\n",
       "  'reactions': 1,\n",
       "  'thought': 1,\n",
       "  'greek': 1,\n",
       "  'medicine': 1,\n",
       "  'Horse': 1,\n",
       "  'practitioners': 1,\n",
       "  'get': 1,\n",
       "  'Alsace': 1,\n",
       "  '60': 1,\n",
       "  '%': 1,\n",
       "  'enduring': 1,\n",
       "  'George': 1,\n",
       "  'm.': 1,\n",
       "  'university': 1,\n",
       "  'proposed': 1,\n",
       "  'For': 1,\n",
       "  'dinner': 1,\n",
       "  'since': 1,\n",
       "  'rescue': 1,\n",
       "  'workers': 1,\n",
       "  'active-duty': 1,\n",
       "  'military': 1,\n",
       "  'Systems': 1,\n",
       "  'platforms': 1,\n",
       "  'like': 1,\n",
       "  'facebook': 1,\n",
       "  'zero': 1,\n",
       "  '2015': 2,\n",
       "  'study': 1,\n",
       "  'found': 1,\n",
       "  'Including': 1,\n",
       "  'better': 1,\n",
       "  'disorder': 1,\n",
       "  'some': 1,\n",
       "  'sociological': 1,\n",
       "  'concepts': 1,\n",
       "  'applied': 1,\n",
       "  'administrators': 1,\n",
       "  'Since': 1,\n",
       "  'counsel': 1,\n",
       "  'soldiers': 1,\n",
       "  'server': 1,\n",
       "  'monitors': 1,\n",
       "  'be': 1,\n",
       "  '``': 1,\n",
       "  'harsh': 1,\n",
       "  'sometimes': 1,\n",
       "  'raneem': 1,\n",
       "  'gathered': 1,\n",
       "  'Simply': 1,\n",
       "  'statically': 1,\n",
       "  'composition': 1,\n",
       "  'discharge': 1,\n",
       "  'vegetation': 1,\n",
       "  'Than': 1,\n",
       "  'newtonian': 1,\n",
       "  'forests': 1,\n",
       "  'taiga': 1,\n",
       "  'scandinavia': 1,\n",
       "  'Statues': 1,\n",
       "  'was': 1,\n",
       "  '1991': 1,\n",
       "  'large': 1,\n",
       "  'parts': 1,\n",
       "  'solar': 1,\n",
       "  'wind': 1,\n",
       "  'charged': 1,\n",
       "  'particles': 1,\n",
       "  'cyclic': 1,\n",
       "  'process': 1,\n",
       "  'Irreligious': 1,\n",
       "  'atheist': 1,\n",
       "  'above': 1,\n",
       "  'The': 1,\n",
       "  'enrollment': 1,\n",
       "  'irrigated': 1,\n",
       "  'through': 1,\n",
       "  'series': 1,\n",
       "  'Human': 1,\n",
       "  'karl': 1,\n",
       "  'testing': 1,\n",
       "  'known': 1,\n",
       "  'Hour': 1,\n",
       "  '190': 1,\n",
       "  'outcome': 1},\n",
       " {'Traditional': 1,\n",
       "  'medicines': 1,\n",
       "  '21st': 1,\n",
       "  'centuries': 1,\n",
       "  '.': 71,\n",
       "  'All': 1,\n",
       "  'true': 1,\n",
       "  'upscale': 1,\n",
       "  'facilities': 1,\n",
       "  '..': 5,\n",
       "  'Than': 1,\n",
       "  'sole': 1,\n",
       "  'with': 3,\n",
       "  'parts': 2,\n",
       "  'of': 14,\n",
       "  'the': 19,\n",
       "  'Act': 1,\n",
       "  'as': 2,\n",
       "  'observer': 1,\n",
       "  'leading': 1,\n",
       "  'cause': 1,\n",
       "  'Unilateral': 1,\n",
       "  'declaration': 1,\n",
       "  'in': 10,\n",
       "  '665-million-year-old': 1,\n",
       "  'rock': 1,\n",
       "  'Plant': 1,\n",
       "  'growth': 2,\n",
       "  'only': 1,\n",
       "  'acceptable': 1,\n",
       "  'when': 2,\n",
       "  'user': 1,\n",
       "  'Crushed': 1,\n",
       "  'and': 13,\n",
       "  'scientific': 2,\n",
       "  'quantity': 1,\n",
       "  'is': 7,\n",
       "  'described': 1,\n",
       "  'a': 6,\n",
       "  '``': 6,\n",
       "  'hub': 1,\n",
       "  'science': 1,\n",
       "  '?': 3,\n",
       "  'Artifacts': 1,\n",
       "  'are': 5,\n",
       "  'connector': 1,\n",
       "  'for': 5,\n",
       "  'accepting': 1,\n",
       "  'documents': 1,\n",
       "  'Theory': 1,\n",
       "  'medical': 1,\n",
       "  'psychology': 1,\n",
       "  ';': 4,\n",
       "  'new': 2,\n",
       "  'york': 1,\n",
       "  ':': 3,\n",
       "  'facts': 1,\n",
       "  'on': 3,\n",
       "  'file': 1,\n",
       "  'Inconsistency': 1,\n",
       "  'alexander': 1,\n",
       "  'humboldt': 1,\n",
       "  '1810': 1,\n",
       "  'estimate': 1,\n",
       "  'by': 1,\n",
       "  'governor': 1,\n",
       "  '19th': 1,\n",
       "  'Schoolchildren': 1,\n",
       "  'also': 2,\n",
       "  'elevations': 1,\n",
       "  'up': 1,\n",
       "  'to': 11,\n",
       "  'us': 2,\n",
       "  'nationals': 1,\n",
       "  'being.Do': 1,\n",
       "  'galton': 1,\n",
       "  ',': 32,\n",
       "  'went': 1,\n",
       "  '(': 4,\n",
       "  'overland': 1,\n",
       "  'transportation': 1,\n",
       "  'The': 3,\n",
       "  'newspaper': 1,\n",
       "  'first': 1,\n",
       "  'black': 1,\n",
       "  'premier': 1,\n",
       "  'most': 2,\n",
       "  'effective': 1,\n",
       "  'Pressure': 1,\n",
       "  'warm': 1,\n",
       "  'bellevue': 3,\n",
       "  'expedia': 1,\n",
       "  'inc.': 1,\n",
       "  'redmond': 1,\n",
       "  'Density': 1,\n",
       "  'substantially': 1,\n",
       "  'unified': 1,\n",
       "  'judicial': 1,\n",
       "  'system': 1,\n",
       "  'similar': 1,\n",
       "  'Psittacosis': 1,\n",
       "  'parrot': 1,\n",
       "  'constitution': 1,\n",
       "  'there': 2,\n",
       "  'agreement': 1,\n",
       "  'different': 3,\n",
       "  'roles': 1,\n",
       "  'at': 5,\n",
       "  'angles': 1,\n",
       "  'Zimbabwe': 1,\n",
       "  'have': 2,\n",
       "  'resort': 1,\n",
       "  'town': 1,\n",
       "  'metlakatla': 1,\n",
       "  'all': 1,\n",
       "  'three': 1,\n",
       "  'associated': 1,\n",
       "  '342': 1,\n",
       "  'pp': 1,\n",
       "  '2,980': 1,\n",
       "  'System': 1,\n",
       "  'known': 1,\n",
       "  'cyclonic': 1,\n",
       "  'lift': 1,\n",
       "  'occur': 1,\n",
       "  'publication': 1,\n",
       "  'one-sided': 1,\n",
       "  'or': 2,\n",
       "  'prejudiced': 1,\n",
       "  'Glynn': 1,\n",
       "  'l.': 1,\n",
       "  'chipilo': 1,\n",
       "  'puebla': 1,\n",
       "  'english': 1,\n",
       "  'considered': 1,\n",
       "  'one': 1,\n",
       "  'Performing': 1,\n",
       "  'arts': 1,\n",
       "  'colin': 1,\n",
       "  'allen': 1,\n",
       "  'conclude': 1,\n",
       "  'that': 2,\n",
       "  'issues': 1,\n",
       "  'Of': 3,\n",
       "  'message': 1,\n",
       "  'admission': 1,\n",
       "  'had': 1,\n",
       "  'give': 1,\n",
       "  'priority': 1,\n",
       "  'any': 2,\n",
       "  'race': 1,\n",
       "  '21.4': 1,\n",
       "  '%': 2,\n",
       "  'mexican': 1,\n",
       "  '3.8': 1,\n",
       "  'Class': 1,\n",
       "  '2': 1,\n",
       "  'broadcasting': 1,\n",
       "  'corporation': 1,\n",
       "  'cbc': 1,\n",
       "  ')': 3,\n",
       "  'national': 1,\n",
       "  'By': 1,\n",
       "  'settlements': 1,\n",
       "  'egalité': 1,\n",
       "  'fraternité': 1,\n",
       "  'defined': 1,\n",
       "  'ancient': 1,\n",
       "  'greek': 1,\n",
       "  'word': 1,\n",
       "  'brazilwood': 1,\n",
       "  'Found': 1,\n",
       "  'gold': 1,\n",
       "  'immoral': 3,\n",
       "  \"''\": 3,\n",
       "  'euthanasia': 2,\n",
       "  'colombia—halfway': 1,\n",
       "  'communication': 1,\n",
       "  'between': 1,\n",
       "  'two': 1,\n",
       "  'males': 1,\n",
       "  'mate': 1,\n",
       "  'Programs': 1,\n",
       "  'were': 1,\n",
       "  'cognitive': 1,\n",
       "  'affective': 1,\n",
       "  'moral': 1,\n",
       "  'social': 1,\n",
       "  'neural': 1,\n",
       "  'development': 1,\n",
       "  'researchers': 1,\n",
       "  'who': 1,\n",
       "  'study': 2,\n",
       "  'complex': 1,\n",
       "  'Owned': 1,\n",
       "  'motorways': 1,\n",
       "  'cloud': 1,\n",
       "  'base': 1,\n",
       "  'takes': 1,\n",
       "  'A': 1,\n",
       "  'magazine': 1,\n",
       "  'economies': 1,\n",
       "  'past': 1,\n",
       "  'teen': 1,\n",
       "  'much': 1,\n",
       "  'less': 1,\n",
       "  'favourable': 1,\n",
       "  'few': 1,\n",
       "  'And': 1,\n",
       "  'iran': 1,\n",
       "  'homosexuals': 1,\n",
       "  'friendship': 1,\n",
       "  'freedom': 1,\n",
       "  'police': 1,\n",
       "  'political': 1,\n",
       "  'elements': 1,\n",
       "  'whose': 1,\n",
       "  'Hamburg': 1,\n",
       "  'munich': 1,\n",
       "  'appropriate': 1,\n",
       "  'controls': 1,\n",
       "  'example': 1,\n",
       "  '1896': 1,\n",
       "  'Disappeared': 1,\n",
       "  'type-safety': 1,\n",
       "  'operations': 1,\n",
       "  'run': 1,\n",
       "  'time': 1,\n",
       "  'other': 1,\n",
       "  'Household': 1,\n",
       "  'was': 2,\n",
       "  'mass': 1,\n",
       "  'it': 1,\n",
       "  '2007': 1,\n",
       "  'facilitate': 1,\n",
       "  'student': 1,\n",
       "  'transfer': 1,\n",
       "  'from': 4,\n",
       "  'middle': 1,\n",
       "  'east': 1,\n",
       "  'central': 1,\n",
       "  'intelligence': 1,\n",
       "  'agency': 1,\n",
       "  'germany': 1,\n",
       "  'Gained': 1,\n",
       "  'widespread': 1,\n",
       "  'pilots': 1,\n",
       "  'Mortality': 1,\n",
       "  'rates': 1,\n",
       "  'mesoamerica': 1,\n",
       "  'successful': 1,\n",
       "  'attempts': 1,\n",
       "  'applicability': 1,\n",
       "  'this': 1,\n",
       "  'latitudinal': 1,\n",
       "  'rule': 1,\n",
       "  'has': 1,\n",
       "  'several': 1,\n",
       "  'anomalies': 1,\n",
       "  'proximity': 1,\n",
       "  'cuba': 1,\n",
       "  'made': 1,\n",
       "  'importation': 1,\n",
       "  'Curve': 1,\n",
       "  'yoshinori': 1,\n",
       "  'ohsumi': 1,\n",
       "  'in.Biologics': 1,\n",
       "  '5.1': 1,\n",
       "  'mexico': 2,\n",
       "  \"'s\": 3,\n",
       "  'gross': 1,\n",
       "  'domestic': 1,\n",
       "  'product': 1,\n",
       "  'virginia': 1,\n",
       "  'Said': 1,\n",
       "  'welfare': 1,\n",
       "  'charge': 1,\n",
       "  'Artistic': 1,\n",
       "  'linguistic': 1,\n",
       "  'online': 1,\n",
       "  'newspapers': 1,\n",
       "  'four': 1,\n",
       "  'main': 1,\n",
       "  'components': 1,\n",
       "  'land': 1,\n",
       "  '6,118': 1,\n",
       "  'rooms': 1,\n",
       "  'applying': 1,\n",
       "  'particular': 1,\n",
       "  'Germans': 1,\n",
       "  'produce': 1,\n",
       "  'college': 1,\n",
       "  'high': 1,\n",
       "  'winds': 1,\n",
       "  'yellowish': 1,\n",
       "  'Mental': 1,\n",
       "  'well-being': 1,\n",
       "  'visited': 1,\n",
       "  'country': 2,\n",
       "  'south': 1,\n",
       "  'america': 1,\n",
       "  'sharing': 1,\n",
       "  'bulk': 1,\n",
       "  'Musique': 1,\n",
       "  'imitated': 1,\n",
       "  '20': 1,\n",
       "  'Totaling': 1,\n",
       "  'about': 1,\n",
       "  'baxter': 1,\n",
       "  'arm': 1,\n",
       "  'more.Contentious': 1,\n",
       "  '2016': 1,\n",
       "  'found': 1,\n",
       "  'neutered': 1,\n",
       "  'male': 1,\n",
       "  'cats': 1,\n",
       "  'respond': 1,\n",
       "  'strongly': 1,\n",
       "  'Every': 1,\n",
       "  'chancellor': 1,\n",
       "  'showing': 1,\n",
       "  'language': 1,\n",
       "  'families': 1,\n",
       "  'however': 1,\n",
       "  'some': 1,\n",
       "  'Grenoble': 1,\n",
       "  'montpellier': 1,\n",
       "  '...': 1,\n",
       "  'tanabata': 1,\n",
       "  'obon': 1,\n",
       "  'christmas': 1,\n",
       "  'shinto': 1,\n",
       "  'Recession': 1,\n",
       "  'amazon.com': 1,\n",
       "  'forces': 1,\n",
       "  'conducting': 1,\n",
       "  'arthropoda': 1,\n",
       "  'proclamations': 1,\n",
       "  'rather': 1,\n",
       "  'Carpenter': 1,\n",
       "  'people': 1,\n",
       "  'murder': 1,\n",
       "  'rate': 1,\n",
       "  'Lake': 1,\n",
       "  'jersey': 1,\n",
       "  'Overall': 1,\n",
       "  'signal': 1,\n",
       "  'de': 1,\n",
       "  'botrange': 1,\n",
       "  'forms': 1,\n",
       "  'gdp': 1,\n",
       "  'significant': 1}]"
      ]
     },
     "execution_count": 327,
     "metadata": {},
     "output_type": "execute_result"
    }
   ],
   "source": [
    "list_of_dictionaries"
   ]
  },
  {
   "cell_type": "code",
   "execution_count": 13,
   "id": "a3241ffb",
   "metadata": {},
   "outputs": [],
   "source": [
    "def allPairsSimilarities(list_of_dictionaries,similarity_measure ):\n",
    "    \n",
    "    all_pair_similarity = []\n",
    "    \n",
    "    if similarity_measure=='jaccard':\n",
    "        #for jaccard similarity\n",
    "        for i in list_of_dictionaries:\n",
    "            for j in list_of_dictionaries:\n",
    "                all_pair_similTo test the function, we create a dictionary of 3 documents with 5 paragraphs each:arity.append(jaccard(i,j))\n",
    "                \n",
    "    if similarity_measure == 'cosine_vector':\n",
    "        for i in list_of_dictionaries:\n",
    "            for j in list_of_dictionaries:\n",
    "                a,b = densevectors_asnparray(i,j)\n",
    "                k = cosinesim_dot(a,b)\n",
    "                all_pair_similarity.append(k)\n",
    "                \n",
    "    if similarity_measure == 'cosine_numpy':\n",
    "        for i in list_of_dictionaries:\n",
    "            for j in list_of_dictionaries:\n",
    "                a,b = densevectors_asnparray(i,j)\n",
    "                k = cosinesim_numpy(a,b)\n",
    "                all_pair_similarity.append(k)\n",
    "                \n",
    "    if similarity_measure == 'cosine_sparse':\n",
    "        for i in list_of_dictionaries:\n",
    "            for j in list_of_dictionaries:\n",
    "                k = cosinesim_sparse(i,j)\n",
    "                all_pair_similarity.append(k)\n",
    "\n",
    "    return all_pair_similarity"
   ]
  },
  {
   "cell_type": "markdown",
   "id": "1b231278",
   "metadata": {},
   "source": [
    "To test the function, we create a dictionary of 3 documents with 5 paragraphs each:"
   ]
  },
  {
   "cell_type": "code",
   "execution_count": 14,
   "id": "c0430475",
   "metadata": {},
   "outputs": [],
   "source": [
    "list_of_dictionaries=create_docdicts(3,5)"
   ]
  },
  {
   "cell_type": "markdown",
   "id": "d52ff33e",
   "metadata": {},
   "source": [
    "We apply the function to the created dictionary:"
   ]
  },
  {
   "cell_type": "code",
   "execution_count": 329,
   "id": "5efca71b",
   "metadata": {},
   "outputs": [
    {
     "name": "stdout",
     "output_type": "stream",
     "text": [
      "[1.0, 0.23718712753277713, 0.2319004524886878, 0.23718712753277713, 1.0, 0.2598684210526316, 0.2319004524886878, 0.2598684210526316, 1.0]\n"
     ]
    }
   ],
   "source": [
    "jaccard_measure=allPairsSimilarities(list_of_dictionaries,'jaccard')\n",
    "print(jaccard_measure)"
   ]
  },
  {
   "cell_type": "code",
   "execution_count": 301,
   "id": "0b514e20",
   "metadata": {},
   "outputs": [],
   "source": [
    "xs=[]\n",
    "ys_jaccard=[]\n",
    "for i in range(1,30,5): \n",
    "    list_of_dictionaries1=create_docdicts(i,10)\n",
    "    y,z=timeit(allPairsSimilarities,list_of_dictionaries1,'jaccard')\n",
    "    xs.append(i)\n",
    "    ys_jaccard.append(y)"
   ]
  },
  {
   "cell_type": "code",
   "execution_count": 302,
   "id": "45d3a5c3",
   "metadata": {
    "scrolled": false
   },
   "outputs": [
    {
     "name": "stdout",
     "output_type": "stream",
     "text": [
      "[0.0006046485900878906, 0.01571714162826538, 0.06769859790802002, 0.10951904773712158, 0.1992941093444824, 0.2572839307785034]\n"
     ]
    }
   ],
   "source": [
    "print(ys_jaccard)"
   ]
  },
  {
   "cell_type": "code",
   "execution_count": 292,
   "id": "a9e9e43c",
   "metadata": {},
   "outputs": [],
   "source": [
    "xs=[]\n",
    "ys_cosine_vector=[]\n",
    "for i in range(1,30,5): \n",
    "    list_of_dictionaries1=create_docdicts(i,10)\n",
    "    y,z=timeit(allPairsSimilarities,list_of_dictionaries1,'cosine_vector')\n",
    "    xs.append(i)\n",
    "    ys_cosine_vector.append(y)"
   ]
  },
  {
   "cell_type": "code",
   "execution_count": 293,
   "id": "a6155578",
   "metadata": {},
   "outputs": [
    {
     "name": "stdout",
     "output_type": "stream",
     "text": [
      "[0.001217787265777588, 0.0966765570640564, 0.36335201740264894, 0.8878150343894958, 1.576726372241974, 1.9662937784194947]\n"
     ]
    }
   ],
   "source": [
    "print(ys_cosine_vector)"
   ]
  },
  {
   "cell_type": "code",
   "execution_count": 308,
   "id": "a83318a6",
   "metadata": {},
   "outputs": [],
   "source": [
    "xs=[]\n",
    "ys_cosine_numpy=[]\n",
    "for i in range(1,30,5): \n",
    "    list_of_dictionaries1=create_docdicts(i,10)\n",
    "    y,z=timeit(allPairsSimilarities,list_of_dictionaries1,'cosine_numpy')\n",
    "    xs.append(i)\n",
    "    ys_cosine_numpy.append(y)"
   ]
  },
  {
   "cell_type": "code",
   "execution_count": 309,
   "id": "f7d4cfdd",
   "metadata": {},
   "outputs": [
    {
     "name": "stdout",
     "output_type": "stream",
     "text": [
      "[0.0007004690170288086, 0.0398658275604248, 0.15644465446472167, 0.30554283380508424, 0.5420495629310608, 0.8617936158180237]\n"
     ]
    }
   ],
   "source": [
    "print(ys_cosine_numpy)"
   ]
  },
  {
   "cell_type": "code",
   "execution_count": 317,
   "id": "c38e1f44",
   "metadata": {},
   "outputs": [],
   "source": [
    "xs=[]\n",
    "ys_cosine_sparse=[]\n",
    "for i in range(1,30,5): \n",
    "    list_of_dictionaries1=create_docdicts(i,10)\n",
    "    y,z=timeit(allPairsSimilarities,list_of_dictionaries1,'cosine_sparse')\n",
    "    xs.append(i)\n",
    "    ys_cosine_sparse.append(y)"
   ]
  },
  {
   "cell_type": "code",
   "execution_count": 318,
   "id": "65752665",
   "metadata": {},
   "outputs": [
    {
     "name": "stdout",
     "output_type": "stream",
     "text": [
      "[0.00019998788833618163, 0.008231937885284424, 0.032128021717071534, 0.06781362533569336, 0.12934869527816772, 0.22395018100738526]\n"
     ]
    }
   ],
   "source": [
    "print(ys_cosine_sparse)"
   ]
  },
  {
   "cell_type": "markdown",
   "id": "d1a72b1c",
   "metadata": {},
   "source": [
    "## Graph of all similarity measures (All-pairs Similarity)"
   ]
  },
  {
   "cell_type": "code",
   "execution_count": 319,
   "id": "fc61fc7f",
   "metadata": {},
   "outputs": [
    {
     "data": {
      "text/plain": [
       "<matplotlib.legend.Legend at 0x1e7aa2cc070>"
      ]
     },
     "execution_count": 319,
     "metadata": {},
     "output_type": "execute_result"
    },
    {
     "data": {
      "image/png": "[encoded data removed]",
      "text/plain": [
       "<Figure size 640x480 with 1 Axes>"
      ]
     },
     "metadata": {},
     "output_type": "display_data"
    }
   ],
   "source": [
    "import matplotlib.pyplot as plt\n",
    "#plt.ylim(0,0.05)\n",
    "plt.plot(xs,ys_jaccard)\n",
    "plt.plot(xs,ys_cosine_vector)\n",
    "plt.plot(xs,ys_cosine_numpy)\n",
    "plt.plot(xs,ys_cosine_sparse)\n",
    "label=['jaccard','cosine_vector','cosine_numpy','cosine_sparse']\n",
    "plt.legend(label, loc =1 , ncol = 2)"
   ]
  },
  {
   "cell_type": "code",
   "execution_count": 320,
   "id": "aac6c873",
   "metadata": {},
   "outputs": [],
   "source": [
    "logx = np.log10(xs)\n",
    "logy_jaccard = np.log10(ys_jaccard)\n",
    "logy_cosine_vector = np.log10(ys_cosine_vector)\n",
    "logy_cosine_numpy = np.log10(ys_cosine_numpy)\n",
    "logy_cosine_sparse = np.log10(ys_cosine_sparse)\n"
   ]
  },
  {
   "cell_type": "markdown",
   "id": "90b64770",
   "metadata": {},
   "source": [
    "runtime analysis for Jaccard"
   ]
  },
  {
   "cell_type": "code",
   "execution_count": 321,
   "id": "82ba8b71",
   "metadata": {},
   "outputs": [
    {
     "name": "stdout",
     "output_type": "stream",
     "text": [
      "The slope is 1.8889852908889988, the constant for the computation is 0.0006015613986163292 and the intercept  is -3.2207200396135285\n"
     ]
    }
   ],
   "source": [
    "slope, intercept, r_value, p_value , std_err = stats.linregress(logx,logy_jaccard)\n",
    "constant = np.power(10, intercept)\n",
    "print('The slope is {}, the constant for the computation is {} and the intercept  is {}'.format(slope,constant,intercept))"
   ]
  },
  {
   "cell_type": "markdown",
   "id": "2eec615a",
   "metadata": {},
   "source": [
    "runtime analysis for cosine_vector"
   ]
  },
  {
   "cell_type": "code",
   "execution_count": 322,
   "id": "c34fdfec",
   "metadata": {},
   "outputs": [
    {
     "name": "stdout",
     "output_type": "stream",
     "text": [
      "The slope is 2.310191459211284, the constant for the computation is 0.0013398133407233935 and the intercept  is -2.8729557021877685\n"
     ]
    }
   ],
   "source": [
    "slope, intercept, r_value, p_value , std_err = stats.linregress(logx,logy_cosine_vector)\n",
    "constant = np.power(10, intercept)\n",
    "print('The slope is {}, the constant for the computation is {} and the intercept  is {}'.format(slope,constant,intercept))"
   ]
  },
  {
   "cell_type": "markdown",
   "id": "e117bdba",
   "metadata": {},
   "source": [
    "runtime analysis for cosine_numpy"
   ]
  },
  {
   "cell_type": "code",
   "execution_count": 323,
   "id": "21ffc8c2",
   "metadata": {},
   "outputs": [
    {
     "name": "stdout",
     "output_type": "stream",
     "text": [
      "The slope is 2.182919697411871, the constant for the computation is 0.0007411331841962916 and the intercept  is -3.130103740787087\n"
     ]
    }
   ],
   "source": [
    "slope, intercept, r_value, p_value , std_err = stats.linregress(logx,logy_cosine_numpy)\n",
    "constant = np.power(10, intercept)\n",
    "print('The slope is {}, the constant for the computation is {} and the intercept  is {}'.format(slope,constant,intercept))"
   ]
  },
  {
   "cell_type": "markdown",
   "id": "906dfe44",
   "metadata": {},
   "source": [
    "runtime analysis for cosine_sparse"
   ]
  },
  {
   "cell_type": "code",
   "execution_count": 325,
   "id": "3c7c1240",
   "metadata": {},
   "outputs": [
    {
     "name": "stdout",
     "output_type": "stream",
     "text": [
      "The slope is 2.1391467636271515, the constant for the computation is 0.0001915213031730103 and the intercept  is -3.7177829118472205\n"
     ]
    }
   ],
   "source": [
    "slope, intercept, r_value, p_value , std_err = stats.linregress(logx,logy_cosine_sparse)\n",
    "constant = np.power(10, intercept)\n",
    "print('The slope is {}, the constant for the computation is {} and the intercept  is {}'.format(slope,constant,intercept))"
   ]
  },
  {
   "cell_type": "markdown",
   "id": "b186c008",
   "metadata": {},
   "source": [
    "Analyzing the slope of all the measurements, we observe that the best result is obtained with Jaccard, with a slope of 1.88 and an intercept of -3.22.\n",
    "So $𝑐𝑎≈10^{−3.22}\\approx 0.00001$. Based on this analysis, I estimate the worst running time $y\\approx c_a.x^{1.88} $. This illustrates that empirically we have $  𝑂(𝑛^{1.88})$ which is slightly better than $𝑂(𝑛^{2})$. In the rest of the methods you obtain slope higher than 2, however, they are slightly better than  𝑂(𝑛^3).\n",
    "In the case of jaccard, its running time is that y is $10^{-3}*x^{1.88} \\approx 0.0001*(200000)^{1.88} $ and in the case of cosine, we can take the worst case which would be  $10^{-3}*x^{2.31} \\approx 0.0001*(200000)^{2.31} $ "
   ]
  },
  {
   "cell_type": "markdown",
   "id": "6c95d4a7",
   "metadata": {},
   "source": [
    "# All-pairs Similarity using MapReduce <a class=\"anchor\" id=\"six-bullet\"></a>"
   ]
  },
  {
   "cell_type": "markdown",
   "id": "fc2df01e",
   "metadata": {},
   "source": [
    "Write a function that implements all-pairs similarities for documents and uses some form of parallel computing, e.g. MapReduce. Make sure you test your function empirically for correctness and for efficiency. Investigate the number of parallel processes that gives optimal results for your implementation and computer."
   ]
  },
  {
   "cell_type": "markdown",
   "id": "76d3c1e2",
   "metadata": {},
   "source": [
    "### All pair similarity for Jaccard using parallel processing (Map Reduce Paradigm)"
   ]
  },
  {
   "cell_type": "code",
   "execution_count": 18,
   "id": "5cd0bb12",
   "metadata": {},
   "outputs": [
    {
     "data": {
      "text/plain": [
       "8"
      ]
     },
     "execution_count": 18,
     "metadata": {},
     "output_type": "execute_result"
    }
   ],
   "source": [
    "import multiprocessing\n",
    "\n",
    "cores = multiprocessing.cpu_count()\n",
    "cores\n",
    "\n"
   ]
  },
  {
   "cell_type": "code",
   "execution_count": 19,
   "id": "e7ddfe86",
   "metadata": {},
   "outputs": [],
   "source": [
    "# Defining the mapper function for the map-reduce implementation\n",
    "def Mapper_all_pair_jaccard(doc_):\n",
    "  list_output = []\n",
    "  (i,j,doc_i,doc_j) = doc_\n",
    "  \n",
    "\n",
    "  similarity_ = jaccard(doc_i,doc_j)\n",
    "  list_output.append(((i,j),similarity_))\n",
    "  return list_output"
   ]
  },
  {
   "cell_type": "code",
   "execution_count": 20,
   "id": "e724d489",
   "metadata": {},
   "outputs": [],
   "source": [
    "def map_reduce_parallel(inputs,mapper,reducer,mapprocesses=4,reduceprocesses=3):\n",
    "    \n",
    "    collector=defaultdict(list)  #this dictionary is where we will store intermediate results\n",
    "                                 #it will map keys to lists of values (default value of a list is [])\n",
    "                                 #in a real system, this would be stored in individual files at the map nodes\n",
    "                                 #and then transferred to the reduce nodes\n",
    "    \n",
    "    mappool = Pool(processes=mapprocesses)\n",
    "    #map stage\n",
    "    \n",
    "    mapresults=mappool.map(mapper,inputs)\n",
    "    mappool.close()\n",
    "    \n",
    "    for mapresult in mapresults:\n",
    "        for (key, value) in mapresult:     #pass each input to the mapper function and receive back each key,value pair yielded\n",
    "            collector[key].append(value)     #append the value to the list for that key in the intermediate store\n",
    "            \n",
    "    #reduce stage \n",
    "    outputs=[]\n",
    "    reducepool = Pool(processes=reduceprocesses)\n",
    "    \n",
    "    reduceresults=reducepool.map(reducer,collector.items())\n",
    "    reducepool.close()\n",
    "    for reduceresult in reduceresults:\n",
    "        outputs+=reduceresult\n",
    "   \n",
    "    return outputs"
   ]
  },
  {
   "cell_type": "code",
   "execution_count": 21,
   "id": "231a35ee",
   "metadata": {},
   "outputs": [],
   "source": [
    "#Defining the reducer function for the map-reduce implementation\n",
    "def reducer_all_pair(item):\n",
    "  (keys,values) = item\n",
    "  output_reducer = [(keys,values)]\n",
    "  return (output_reducer)"
   ]
  },
  {
   "cell_type": "code",
   "execution_count": 22,
   "id": "86e55be8",
   "metadata": {},
   "outputs": [],
   "source": [
    "def mapreduce_allpair_jaccard (all_pair_docc_list):\n",
    "  mapper_iterator = []\n",
    "  for i in range(len(all_pair_docc_list)):\n",
    "    for j in range (len(all_pair_docc_list)):\n",
    "      mapper_iterator.append((i,j,all_pair_docc_list[i],all_pair_docc_list[j]))\n",
    "\n",
    "  return map_reduce_parallel(mapper_iterator,Mapper_all_pair_jaccard,reducer_all_pair)"
   ]
  },
  {
   "cell_type": "code",
   "execution_count": null,
   "id": "339597fd",
   "metadata": {},
   "outputs": [],
   "source": [
    "#stores result as a list of tuples with doument index and corresponding similarity measure\n",
    "result_jaccard = mapreduce_allpair_jaccard(create_docdicts(2,2))"
   ]
  },
  {
   "cell_type": "code",
   "execution_count": null,
   "id": "5feb8361",
   "metadata": {},
   "outputs": [],
   "source": [
    "print(result_jaccard)"
   ]
  },
  {
   "cell_type": "code",
   "execution_count": null,
   "id": "0ef8169c",
   "metadata": {},
   "outputs": [],
   "source": [
    "jaccard_values =all_pair_comparison(all_pair_doc_list,method='jaccard')\n",
    "document_index = [i[0] for i in result_jaccard]\n",
    "jaccard_similarity_mr = [i[1] for i in result_jaccard]"
   ]
  },
  {
   "cell_type": "markdown",
   "id": "7d5aeeed",
   "metadata": {},
   "source": [
    "### All pair similarity using cosine similarity using parallel processing"
   ]
  },
  {
   "cell_type": "code",
   "execution_count": null,
   "id": "4747cdfe",
   "metadata": {},
   "outputs": [],
   "source": [
    "#defining mapper function for cosine similarity \n",
    "def Mapper_all_pair_cosine(doc_):\n",
    "  list_output = []\n",
    "  (i,j,doc_i,doc_j) = doc_\n",
    "  \n",
    "\n",
    "  similarity_ = cosinesim_sparse(doc_i,doc_j)\n",
    "  list_output.append(((i,j),similarity_))\n",
    "  return list_output"
   ]
  },
  {
   "cell_type": "code",
   "execution_count": null,
   "id": "5c54e78b",
   "metadata": {},
   "outputs": [],
   "source": [
    "#defining the main mapreduce function to be called for computing cosine similarity\n",
    "def mapreduce_allpair_cosine (all_pair_docc_list):\n",
    "  mapper_iterator = []\n",
    "  for i in range(len(all_pair_docc_list)):\n",
    "    for j in range (len(all_pair_docc_list)):\n",
    "      mapper_iterator.append((i,j,all_pair_docc_list[i],all_pair_docc_list[j]))\n",
    "\n",
    "  return map_reduce_parallel(mapper_iterator,Mapper_all_pair_cosine,reducer_all_pair)"
   ]
  },
  {
   "cell_type": "code",
   "execution_count": null,
   "id": "cee0cd75",
   "metadata": {},
   "outputs": [],
   "source": [
    "#stores result as a list of tuples with doument index and corresponding similarity measure\n",
    "result_cosine = mapreduce_allpair_cosine(all_pair_doc_list)"
   ]
  },
  {
   "cell_type": "code",
   "execution_count": null,
   "id": "25f685d8",
   "metadata": {},
   "outputs": [],
   "source": [
    "print(result_cosine) "
   ]
  },
  {
   "cell_type": "markdown",
   "id": "4b6902f3",
   "metadata": {},
   "source": [
    "# Summary\n",
    "\n",
    "In this report, Jaccard similarity measure, cosine similarity measure and map reduce were analyzed. For Jaccard similarity measure, after running the algorithm for a pair of documents growing in word count, we obtained a response time slightly better than $𝑂(𝑛)$. Then, we compared cosine similarity from a dense vector dictionary representations with cosine similarity from a matrix, obtaining a better response time in the case of the matrix (sparse), and even better, when using the numpy library to perform the multiplication.\n",
    "We then performed an analysis of all measurements for all pairs of documents, obtaining a better runtime result Cosine_sparse in first place, jaccard in second place, cosine numpy in third place and cosine vector in last place."
   ]
  }
 ],
 "metadata": {
  "kernelspec": {
   "display_name": "Python 3 (ipykernel)",
   "language": "python",
   "name": "python3"
  },
  "language_info": {
   "codemirror_mode": {
    "name": "ipython",
    "version": 3
   },
   "file_extension": ".py",
   "mimetype": "text/x-python",
   "name": "python",
   "nbconvert_exporter": "python",
   "pygments_lexer": "ipython3",
   "version": "3.9.12"
  }
 },
 "nbformat": 4,
 "nbformat_minor": 5
}
