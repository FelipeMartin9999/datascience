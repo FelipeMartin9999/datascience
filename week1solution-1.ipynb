{
 "cells": [
  {
   "cell_type": "markdown",
   "metadata": {},
   "source": [
    "# Lab 1: Semantic Similarity Using WordNet"
   ]
  },
  {
   "cell_type": "markdown",
   "metadata": {},
   "source": [
    "I am running Python 3.7.4.  Which version are you running?"
   ]
  },
  {
   "cell_type": "code",
   "execution_count": 1,
   "metadata": {},
   "outputs": [
    {
     "name": "stdout",
     "output_type": "stream",
     "text": [
      "Python 3.7.4\r\n"
     ]
    }
   ],
   "source": [
    "!python --version"
   ]
  },
  {
   "cell_type": "markdown",
   "metadata": {},
   "source": [
    "## 1. Getting Started\n",
    "\n",
    "If you haven't used nltk before, you will need to run the following cell and download resources."
   ]
  },
  {
   "cell_type": "code",
   "execution_count": 2,
   "metadata": {},
   "outputs": [
    {
     "name": "stdout",
     "output_type": "stream",
     "text": [
      "showing info https://raw.githubusercontent.com/nltk/nltk_data/gh-pages/index.xml\n"
     ]
    },
    {
     "data": {
      "text/plain": [
       "True"
      ]
     },
     "execution_count": 2,
     "metadata": {},
     "output_type": "execute_result"
    }
   ],
   "source": [
    "import nltk\n",
    "nltk.download()"
   ]
  },
  {
   "cell_type": "code",
   "execution_count": 3,
   "metadata": {},
   "outputs": [],
   "source": [
    "from nltk.corpus import wordnet as wn\n",
    "from nltk.corpus import wordnet_ic as wn_ic"
   ]
  },
  {
   "cell_type": "markdown",
   "metadata": {},
   "source": [
    "## 2 Useful WN Functions"
   ]
  },
  {
   "cell_type": "code",
   "execution_count": 4,
   "metadata": {},
   "outputs": [
    {
     "data": {
      "text/plain": [
       "[Synset('book.n.01'),\n",
       " Synset('book.n.02'),\n",
       " Synset('record.n.05'),\n",
       " Synset('script.n.01'),\n",
       " Synset('ledger.n.01'),\n",
       " Synset('book.n.06'),\n",
       " Synset('book.n.07'),\n",
       " Synset('koran.n.01'),\n",
       " Synset('bible.n.01'),\n",
       " Synset('book.n.10'),\n",
       " Synset('book.n.11'),\n",
       " Synset('book.v.01'),\n",
       " Synset('reserve.v.04'),\n",
       " Synset('book.v.03'),\n",
       " Synset('book.v.04')]"
      ]
     },
     "execution_count": 4,
     "metadata": {},
     "output_type": "execute_result"
    }
   ],
   "source": [
    "wn.synsets(\"book\")"
   ]
  },
  {
   "cell_type": "code",
   "execution_count": 5,
   "metadata": {},
   "outputs": [
    {
     "data": {
      "text/plain": [
       "[Synset('book.n.01'),\n",
       " Synset('book.n.02'),\n",
       " Synset('record.n.05'),\n",
       " Synset('script.n.01'),\n",
       " Synset('ledger.n.01'),\n",
       " Synset('book.n.06'),\n",
       " Synset('book.n.07'),\n",
       " Synset('koran.n.01'),\n",
       " Synset('bible.n.01'),\n",
       " Synset('book.n.10'),\n",
       " Synset('book.n.11')]"
      ]
     },
     "execution_count": 5,
     "metadata": {},
     "output_type": "execute_result"
    }
   ],
   "source": [
    "wn.synsets(\"book\", wn.NOUN)"
   ]
  },
  {
   "cell_type": "code",
   "execution_count": 6,
   "metadata": {},
   "outputs": [
    {
     "data": {
      "text/plain": [
       "'a written work or composition that has been published (printed on pages bound together)'"
      ]
     },
     "execution_count": 6,
     "metadata": {},
     "output_type": "execute_result"
    }
   ],
   "source": [
    "asynset=wn.synsets(\"book\",wn.NOUN)[0]\n",
    "asynset.definition()"
   ]
  },
  {
   "cell_type": "code",
   "execution_count": 7,
   "metadata": {},
   "outputs": [
    {
     "data": {
      "text/plain": [
       "[Synset('appointment_book.n.01'),\n",
       " Synset('authority.n.07'),\n",
       " Synset('bestiary.n.01'),\n",
       " Synset('booklet.n.01'),\n",
       " Synset('catalog.n.01'),\n",
       " Synset('catechism.n.02'),\n",
       " Synset('copybook.n.01'),\n",
       " Synset('curiosa.n.01'),\n",
       " Synset('formulary.n.01'),\n",
       " Synset('phrase_book.n.01'),\n",
       " Synset('playbook.n.02'),\n",
       " Synset('pop-up_book.n.01'),\n",
       " Synset('prayer_book.n.01'),\n",
       " Synset('reference_book.n.01'),\n",
       " Synset('review_copy.n.01'),\n",
       " Synset('songbook.n.01'),\n",
       " Synset('storybook.n.01'),\n",
       " Synset('textbook.n.01'),\n",
       " Synset('tome.n.01'),\n",
       " Synset('trade_book.n.01'),\n",
       " Synset('workbook.n.01'),\n",
       " Synset('yearbook.n.01')]"
      ]
     },
     "execution_count": 7,
     "metadata": {},
     "output_type": "execute_result"
    }
   ],
   "source": [
    "asynset.hyponyms()"
   ]
  },
  {
   "cell_type": "code",
   "execution_count": 8,
   "metadata": {},
   "outputs": [
    {
     "data": {
      "text/plain": [
       "[Synset('publication.n.01')]"
      ]
     },
     "execution_count": 8,
     "metadata": {},
     "output_type": "execute_result"
    }
   ],
   "source": [
    "asynset.hypernyms()\n"
   ]
  },
  {
   "cell_type": "code",
   "execution_count": 9,
   "metadata": {},
   "outputs": [
    {
     "data": {
      "text/plain": [
       "0.5"
      ]
     },
     "execution_count": 9,
     "metadata": {},
     "output_type": "execute_result"
    }
   ],
   "source": [
    "asynset.path_similarity(asynset.hypernyms()[0])"
   ]
  },
  {
   "cell_type": "markdown",
   "metadata": {},
   "source": [
    "# 2.1 Q1\n",
    "\n",
    "One of many possible solutions.  The use of itertools.product and a list comprehension is just one way of getting all of the possible similarities - using a doubly nested loop is equally acceptable."
   ]
  },
  {
   "cell_type": "code",
   "execution_count": 10,
   "metadata": {},
   "outputs": [
    {
     "data": {
      "text/plain": [
       "0.09090909090909091"
      ]
     },
     "execution_count": 10,
     "metadata": {},
     "output_type": "execute_result"
    }
   ],
   "source": [
    "from itertools import product \n",
    "brown_ic=wn_ic.ic('ic-brown.dat')\n",
    "def calcsim(s1,s2,metric):\n",
    "    sim=None\n",
    "    if metric == \"path\":\n",
    "        sim=s1.path_similarity(s2)\n",
    "    elif metric == \"res\":\n",
    "        sim=s1.res_similarity(s2,brown_ic)\n",
    "    elif metric == \"lin\":\n",
    "        sim=s1.lin_similarity(s2,brown_ic)\n",
    "        \n",
    "    if isinstance(sim,float):\n",
    "        return sim\n",
    "    else:\n",
    "        return 0\n",
    "\n",
    "def wnsimilarity(w1,w2,metric='path'):\n",
    "    synsets1=wn.synsets(w1,wn.NOUN)\n",
    "    synsets2=wn.synsets(w2,wn.NOUN)\n",
    "    sims=[calcsim(s1,s2,metric) for s1,s2 in product(synsets1,synsets2)]\n",
    "    return max(sims)\n",
    "\n",
    "wnsimilarity(\"car\",\"chicken\",\"path\")"
   ]
  },
  {
   "cell_type": "markdown",
   "metadata": {},
   "source": [
    "## 3 Human Synonymy Judgments\n",
    "\n",
    "### 3.1\n",
    "Again, many ways to complete this one.  I would encourage the use of the csv package (either with dialect = 'excel' or the delimiter and quotechar explicitly set) to avoid future problems when reading csv files which have commas in the fields.  Pandas is a good choice here and will make the correlations easier later (but just storing a list of triples is fine too)."
   ]
  },
  {
   "cell_type": "code",
   "execution_count": 11,
   "metadata": {},
   "outputs": [
    {
     "data": {
      "text/html": [
       "<div>\n",
       "<style scoped>\n",
       "    .dataframe tbody tr th:only-of-type {\n",
       "        vertical-align: middle;\n",
       "    }\n",
       "\n",
       "    .dataframe tbody tr th {\n",
       "        vertical-align: top;\n",
       "    }\n",
       "\n",
       "    .dataframe thead th {\n",
       "        text-align: right;\n",
       "    }\n",
       "</style>\n",
       "<table border=\"1\" class=\"dataframe\">\n",
       "  <thead>\n",
       "    <tr style=\"text-align: right;\">\n",
       "      <th></th>\n",
       "      <th>word1</th>\n",
       "      <th>word2</th>\n",
       "      <th>human similarity</th>\n",
       "    </tr>\n",
       "  </thead>\n",
       "  <tbody>\n",
       "    <tr>\n",
       "      <th>0</th>\n",
       "      <td>asylum</td>\n",
       "      <td>madhouse</td>\n",
       "      <td>3.61</td>\n",
       "    </tr>\n",
       "    <tr>\n",
       "      <th>1</th>\n",
       "      <td>bird</td>\n",
       "      <td>cock</td>\n",
       "      <td>3.05</td>\n",
       "    </tr>\n",
       "    <tr>\n",
       "      <th>2</th>\n",
       "      <td>bird</td>\n",
       "      <td>crane</td>\n",
       "      <td>2.97</td>\n",
       "    </tr>\n",
       "    <tr>\n",
       "      <th>3</th>\n",
       "      <td>boy</td>\n",
       "      <td>lad</td>\n",
       "      <td>3.76</td>\n",
       "    </tr>\n",
       "    <tr>\n",
       "      <th>4</th>\n",
       "      <td>brother</td>\n",
       "      <td>monk</td>\n",
       "      <td>2.82</td>\n",
       "    </tr>\n",
       "    <tr>\n",
       "      <th>5</th>\n",
       "      <td>car</td>\n",
       "      <td>automobile</td>\n",
       "      <td>3.92</td>\n",
       "    </tr>\n",
       "    <tr>\n",
       "      <th>6</th>\n",
       "      <td>cemetery</td>\n",
       "      <td>woodland</td>\n",
       "      <td>0.95</td>\n",
       "    </tr>\n",
       "    <tr>\n",
       "      <th>7</th>\n",
       "      <td>chord</td>\n",
       "      <td>smile</td>\n",
       "      <td>0.13</td>\n",
       "    </tr>\n",
       "    <tr>\n",
       "      <th>8</th>\n",
       "      <td>coast</td>\n",
       "      <td>forest</td>\n",
       "      <td>0.42</td>\n",
       "    </tr>\n",
       "    <tr>\n",
       "      <th>9</th>\n",
       "      <td>coast</td>\n",
       "      <td>hill</td>\n",
       "      <td>0.87</td>\n",
       "    </tr>\n",
       "    <tr>\n",
       "      <th>10</th>\n",
       "      <td>coast</td>\n",
       "      <td>shore</td>\n",
       "      <td>3.7</td>\n",
       "    </tr>\n",
       "    <tr>\n",
       "      <th>11</th>\n",
       "      <td>crane</td>\n",
       "      <td>implement</td>\n",
       "      <td>1.68</td>\n",
       "    </tr>\n",
       "    <tr>\n",
       "      <th>12</th>\n",
       "      <td>food</td>\n",
       "      <td>fruit</td>\n",
       "      <td>3.08</td>\n",
       "    </tr>\n",
       "    <tr>\n",
       "      <th>13</th>\n",
       "      <td>food</td>\n",
       "      <td>rooster</td>\n",
       "      <td>0.89</td>\n",
       "    </tr>\n",
       "    <tr>\n",
       "      <th>14</th>\n",
       "      <td>forest</td>\n",
       "      <td>graveyard</td>\n",
       "      <td>0.84</td>\n",
       "    </tr>\n",
       "    <tr>\n",
       "      <th>15</th>\n",
       "      <td>furnace</td>\n",
       "      <td>stove</td>\n",
       "      <td>3.11</td>\n",
       "    </tr>\n",
       "    <tr>\n",
       "      <th>16</th>\n",
       "      <td>gem</td>\n",
       "      <td>jewel</td>\n",
       "      <td>3.84</td>\n",
       "    </tr>\n",
       "    <tr>\n",
       "      <th>17</th>\n",
       "      <td>glass</td>\n",
       "      <td>magician</td>\n",
       "      <td>0.11</td>\n",
       "    </tr>\n",
       "    <tr>\n",
       "      <th>18</th>\n",
       "      <td>journey</td>\n",
       "      <td>car</td>\n",
       "      <td>1.16</td>\n",
       "    </tr>\n",
       "    <tr>\n",
       "      <th>19</th>\n",
       "      <td>journey</td>\n",
       "      <td>voyage</td>\n",
       "      <td>3.84</td>\n",
       "    </tr>\n",
       "    <tr>\n",
       "      <th>20</th>\n",
       "      <td>lad</td>\n",
       "      <td>brother</td>\n",
       "      <td>1.66</td>\n",
       "    </tr>\n",
       "    <tr>\n",
       "      <th>21</th>\n",
       "      <td>lad</td>\n",
       "      <td>wizard</td>\n",
       "      <td>0.42</td>\n",
       "    </tr>\n",
       "    <tr>\n",
       "      <th>22</th>\n",
       "      <td>magician</td>\n",
       "      <td>wizard</td>\n",
       "      <td>3.5</td>\n",
       "    </tr>\n",
       "    <tr>\n",
       "      <th>23</th>\n",
       "      <td>midday</td>\n",
       "      <td>noon</td>\n",
       "      <td>3.42</td>\n",
       "    </tr>\n",
       "    <tr>\n",
       "      <th>24</th>\n",
       "      <td>monk</td>\n",
       "      <td>oracle</td>\n",
       "      <td>1.1</td>\n",
       "    </tr>\n",
       "    <tr>\n",
       "      <th>25</th>\n",
       "      <td>monk</td>\n",
       "      <td>slave</td>\n",
       "      <td>0.55</td>\n",
       "    </tr>\n",
       "    <tr>\n",
       "      <th>26</th>\n",
       "      <td>noon</td>\n",
       "      <td>string</td>\n",
       "      <td>0.08</td>\n",
       "    </tr>\n",
       "    <tr>\n",
       "      <th>27</th>\n",
       "      <td>rooster</td>\n",
       "      <td>voyage</td>\n",
       "      <td>0.08</td>\n",
       "    </tr>\n",
       "    <tr>\n",
       "      <th>28</th>\n",
       "      <td>shore</td>\n",
       "      <td>woodland</td>\n",
       "      <td>0.63</td>\n",
       "    </tr>\n",
       "    <tr>\n",
       "      <th>29</th>\n",
       "      <td>tool</td>\n",
       "      <td>implement</td>\n",
       "      <td>1.68</td>\n",
       "    </tr>\n",
       "  </tbody>\n",
       "</table>\n",
       "</div>"
      ],
      "text/plain": [
       "       word1       word2 human similarity\n",
       "0     asylum    madhouse             3.61\n",
       "1       bird        cock             3.05\n",
       "2       bird       crane             2.97\n",
       "3        boy         lad             3.76\n",
       "4    brother        monk             2.82\n",
       "5        car  automobile             3.92\n",
       "6   cemetery    woodland             0.95\n",
       "7      chord       smile             0.13\n",
       "8      coast      forest             0.42\n",
       "9      coast        hill             0.87\n",
       "10     coast       shore              3.7\n",
       "11     crane   implement             1.68\n",
       "12      food       fruit             3.08\n",
       "13      food     rooster             0.89\n",
       "14    forest   graveyard             0.84\n",
       "15   furnace       stove             3.11\n",
       "16       gem       jewel             3.84\n",
       "17     glass    magician             0.11\n",
       "18   journey         car             1.16\n",
       "19   journey      voyage             3.84\n",
       "20       lad     brother             1.66\n",
       "21       lad      wizard             0.42\n",
       "22  magician      wizard              3.5\n",
       "23    midday        noon             3.42\n",
       "24      monk      oracle              1.1\n",
       "25      monk       slave             0.55\n",
       "26      noon      string             0.08\n",
       "27   rooster      voyage             0.08\n",
       "28     shore    woodland             0.63\n",
       "29      tool   implement             1.68"
      ]
     },
     "execution_count": 11,
     "metadata": {},
     "output_type": "execute_result"
    }
   ],
   "source": [
    "import csv, pandas as pd\n",
    "filename=\"mcdata.csv\"\n",
    "with open(filename) as instream:\n",
    "    mcdata=list(csv.reader(instream,dialect='excel'))\n",
    "\n",
    "\n",
    "df=pd.DataFrame(mcdata,columns=[\"word1\",\"word2\",\"human similarity\"])\n",
    "df\n",
    "\n"
   ]
  },
  {
   "cell_type": "markdown",
   "metadata": {},
   "source": [
    "### 3.2\n"
   ]
  },
  {
   "cell_type": "code",
   "execution_count": 12,
   "metadata": {},
   "outputs": [
    {
     "data": {
      "text/html": [
       "<div>\n",
       "<style scoped>\n",
       "    .dataframe tbody tr th:only-of-type {\n",
       "        vertical-align: middle;\n",
       "    }\n",
       "\n",
       "    .dataframe tbody tr th {\n",
       "        vertical-align: top;\n",
       "    }\n",
       "\n",
       "    .dataframe thead th {\n",
       "        text-align: right;\n",
       "    }\n",
       "</style>\n",
       "<table border=\"1\" class=\"dataframe\">\n",
       "  <thead>\n",
       "    <tr style=\"text-align: right;\">\n",
       "      <th></th>\n",
       "      <th>word1</th>\n",
       "      <th>word2</th>\n",
       "      <th>human similarity</th>\n",
       "      <th>path</th>\n",
       "      <th>res</th>\n",
       "      <th>lin</th>\n",
       "    </tr>\n",
       "  </thead>\n",
       "  <tbody>\n",
       "    <tr>\n",
       "      <th>0</th>\n",
       "      <td>asylum</td>\n",
       "      <td>madhouse</td>\n",
       "      <td>3.61</td>\n",
       "      <td>0.500000</td>\n",
       "      <td>9.475167</td>\n",
       "      <td>0.855584</td>\n",
       "    </tr>\n",
       "    <tr>\n",
       "      <th>1</th>\n",
       "      <td>bird</td>\n",
       "      <td>cock</td>\n",
       "      <td>3.05</td>\n",
       "      <td>0.500000</td>\n",
       "      <td>7.677755</td>\n",
       "      <td>0.773937</td>\n",
       "    </tr>\n",
       "    <tr>\n",
       "      <th>2</th>\n",
       "      <td>bird</td>\n",
       "      <td>crane</td>\n",
       "      <td>2.97</td>\n",
       "      <td>0.250000</td>\n",
       "      <td>7.677755</td>\n",
       "      <td>0.747812</td>\n",
       "    </tr>\n",
       "    <tr>\n",
       "      <th>3</th>\n",
       "      <td>boy</td>\n",
       "      <td>lad</td>\n",
       "      <td>3.76</td>\n",
       "      <td>0.500000</td>\n",
       "      <td>8.399492</td>\n",
       "      <td>0.830562</td>\n",
       "    </tr>\n",
       "    <tr>\n",
       "      <th>4</th>\n",
       "      <td>brother</td>\n",
       "      <td>monk</td>\n",
       "      <td>2.82</td>\n",
       "      <td>0.500000</td>\n",
       "      <td>9.261593</td>\n",
       "      <td>0.986407</td>\n",
       "    </tr>\n",
       "    <tr>\n",
       "      <th>5</th>\n",
       "      <td>car</td>\n",
       "      <td>automobile</td>\n",
       "      <td>3.92</td>\n",
       "      <td>1.000000</td>\n",
       "      <td>7.591401</td>\n",
       "      <td>1.000000</td>\n",
       "    </tr>\n",
       "    <tr>\n",
       "      <th>6</th>\n",
       "      <td>cemetery</td>\n",
       "      <td>woodland</td>\n",
       "      <td>0.95</td>\n",
       "      <td>0.111111</td>\n",
       "      <td>1.290026</td>\n",
       "      <td>0.123441</td>\n",
       "    </tr>\n",
       "    <tr>\n",
       "      <th>7</th>\n",
       "      <td>chord</td>\n",
       "      <td>smile</td>\n",
       "      <td>0.13</td>\n",
       "      <td>0.090909</td>\n",
       "      <td>2.619644</td>\n",
       "      <td>0.246256</td>\n",
       "    </tr>\n",
       "    <tr>\n",
       "      <th>8</th>\n",
       "      <td>coast</td>\n",
       "      <td>forest</td>\n",
       "      <td>0.42</td>\n",
       "      <td>0.166667</td>\n",
       "      <td>1.290026</td>\n",
       "      <td>0.130646</td>\n",
       "    </tr>\n",
       "    <tr>\n",
       "      <th>9</th>\n",
       "      <td>coast</td>\n",
       "      <td>hill</td>\n",
       "      <td>0.87</td>\n",
       "      <td>0.200000</td>\n",
       "      <td>5.884681</td>\n",
       "      <td>0.599113</td>\n",
       "    </tr>\n",
       "    <tr>\n",
       "      <th>10</th>\n",
       "      <td>coast</td>\n",
       "      <td>shore</td>\n",
       "      <td>3.7</td>\n",
       "      <td>0.500000</td>\n",
       "      <td>9.415744</td>\n",
       "      <td>0.963217</td>\n",
       "    </tr>\n",
       "    <tr>\n",
       "      <th>11</th>\n",
       "      <td>crane</td>\n",
       "      <td>implement</td>\n",
       "      <td>1.68</td>\n",
       "      <td>0.200000</td>\n",
       "      <td>3.257679</td>\n",
       "      <td>0.359057</td>\n",
       "    </tr>\n",
       "    <tr>\n",
       "      <th>12</th>\n",
       "      <td>food</td>\n",
       "      <td>fruit</td>\n",
       "      <td>3.08</td>\n",
       "      <td>0.100000</td>\n",
       "      <td>1.592755</td>\n",
       "      <td>0.160984</td>\n",
       "    </tr>\n",
       "    <tr>\n",
       "      <th>13</th>\n",
       "      <td>food</td>\n",
       "      <td>rooster</td>\n",
       "      <td>0.89</td>\n",
       "      <td>0.062500</td>\n",
       "      <td>0.801759</td>\n",
       "      <td>0.091932</td>\n",
       "    </tr>\n",
       "    <tr>\n",
       "      <th>14</th>\n",
       "      <td>forest</td>\n",
       "      <td>graveyard</td>\n",
       "      <td>0.84</td>\n",
       "      <td>0.111111</td>\n",
       "      <td>1.290026</td>\n",
       "      <td>0.123441</td>\n",
       "    </tr>\n",
       "    <tr>\n",
       "      <th>15</th>\n",
       "      <td>furnace</td>\n",
       "      <td>stove</td>\n",
       "      <td>3.11</td>\n",
       "      <td>0.100000</td>\n",
       "      <td>2.305849</td>\n",
       "      <td>0.228138</td>\n",
       "    </tr>\n",
       "    <tr>\n",
       "      <th>16</th>\n",
       "      <td>gem</td>\n",
       "      <td>jewel</td>\n",
       "      <td>3.84</td>\n",
       "      <td>1.000000</td>\n",
       "      <td>12.067705</td>\n",
       "      <td>1.000000</td>\n",
       "    </tr>\n",
       "    <tr>\n",
       "      <th>17</th>\n",
       "      <td>glass</td>\n",
       "      <td>magician</td>\n",
       "      <td>0.11</td>\n",
       "      <td>0.125000</td>\n",
       "      <td>2.282647</td>\n",
       "      <td>0.214168</td>\n",
       "    </tr>\n",
       "    <tr>\n",
       "      <th>18</th>\n",
       "      <td>journey</td>\n",
       "      <td>car</td>\n",
       "      <td>1.16</td>\n",
       "      <td>0.055556</td>\n",
       "      <td>-0.000000</td>\n",
       "      <td>-0.000000</td>\n",
       "    </tr>\n",
       "    <tr>\n",
       "      <th>19</th>\n",
       "      <td>journey</td>\n",
       "      <td>voyage</td>\n",
       "      <td>3.84</td>\n",
       "      <td>0.500000</td>\n",
       "      <td>6.825958</td>\n",
       "      <td>0.777715</td>\n",
       "    </tr>\n",
       "    <tr>\n",
       "      <th>20</th>\n",
       "      <td>lad</td>\n",
       "      <td>brother</td>\n",
       "      <td>1.66</td>\n",
       "      <td>0.200000</td>\n",
       "      <td>2.333545</td>\n",
       "      <td>0.255175</td>\n",
       "    </tr>\n",
       "    <tr>\n",
       "      <th>21</th>\n",
       "      <td>lad</td>\n",
       "      <td>wizard</td>\n",
       "      <td>0.42</td>\n",
       "      <td>0.200000</td>\n",
       "      <td>2.333545</td>\n",
       "      <td>0.255091</td>\n",
       "    </tr>\n",
       "    <tr>\n",
       "      <th>22</th>\n",
       "      <td>magician</td>\n",
       "      <td>wizard</td>\n",
       "      <td>3.5</td>\n",
       "      <td>1.000000</td>\n",
       "      <td>11.980693</td>\n",
       "      <td>1.000000</td>\n",
       "    </tr>\n",
       "    <tr>\n",
       "      <th>23</th>\n",
       "      <td>midday</td>\n",
       "      <td>noon</td>\n",
       "      <td>3.42</td>\n",
       "      <td>1.000000</td>\n",
       "      <td>11.064403</td>\n",
       "      <td>1.000000</td>\n",
       "    </tr>\n",
       "    <tr>\n",
       "      <th>24</th>\n",
       "      <td>monk</td>\n",
       "      <td>oracle</td>\n",
       "      <td>1.1</td>\n",
       "      <td>0.125000</td>\n",
       "      <td>2.333545</td>\n",
       "      <td>0.225652</td>\n",
       "    </tr>\n",
       "    <tr>\n",
       "      <th>25</th>\n",
       "      <td>monk</td>\n",
       "      <td>slave</td>\n",
       "      <td>0.55</td>\n",
       "      <td>0.200000</td>\n",
       "      <td>2.333545</td>\n",
       "      <td>0.254311</td>\n",
       "    </tr>\n",
       "    <tr>\n",
       "      <th>26</th>\n",
       "      <td>noon</td>\n",
       "      <td>string</td>\n",
       "      <td>0.08</td>\n",
       "      <td>0.083333</td>\n",
       "      <td>0.596229</td>\n",
       "      <td>0.066172</td>\n",
       "    </tr>\n",
       "    <tr>\n",
       "      <th>27</th>\n",
       "      <td>rooster</td>\n",
       "      <td>voyage</td>\n",
       "      <td>0.08</td>\n",
       "      <td>0.041667</td>\n",
       "      <td>-0.000000</td>\n",
       "      <td>-0.000000</td>\n",
       "    </tr>\n",
       "    <tr>\n",
       "      <th>28</th>\n",
       "      <td>shore</td>\n",
       "      <td>woodland</td>\n",
       "      <td>0.63</td>\n",
       "      <td>0.200000</td>\n",
       "      <td>1.290026</td>\n",
       "      <td>0.135583</td>\n",
       "    </tr>\n",
       "    <tr>\n",
       "      <th>29</th>\n",
       "      <td>tool</td>\n",
       "      <td>implement</td>\n",
       "      <td>1.68</td>\n",
       "      <td>0.500000</td>\n",
       "      <td>5.877389</td>\n",
       "      <td>0.947154</td>\n",
       "    </tr>\n",
       "  </tbody>\n",
       "</table>\n",
       "</div>"
      ],
      "text/plain": [
       "       word1       word2 human similarity      path        res       lin\n",
       "0     asylum    madhouse             3.61  0.500000   9.475167  0.855584\n",
       "1       bird        cock             3.05  0.500000   7.677755  0.773937\n",
       "2       bird       crane             2.97  0.250000   7.677755  0.747812\n",
       "3        boy         lad             3.76  0.500000   8.399492  0.830562\n",
       "4    brother        monk             2.82  0.500000   9.261593  0.986407\n",
       "5        car  automobile             3.92  1.000000   7.591401  1.000000\n",
       "6   cemetery    woodland             0.95  0.111111   1.290026  0.123441\n",
       "7      chord       smile             0.13  0.090909   2.619644  0.246256\n",
       "8      coast      forest             0.42  0.166667   1.290026  0.130646\n",
       "9      coast        hill             0.87  0.200000   5.884681  0.599113\n",
       "10     coast       shore              3.7  0.500000   9.415744  0.963217\n",
       "11     crane   implement             1.68  0.200000   3.257679  0.359057\n",
       "12      food       fruit             3.08  0.100000   1.592755  0.160984\n",
       "13      food     rooster             0.89  0.062500   0.801759  0.091932\n",
       "14    forest   graveyard             0.84  0.111111   1.290026  0.123441\n",
       "15   furnace       stove             3.11  0.100000   2.305849  0.228138\n",
       "16       gem       jewel             3.84  1.000000  12.067705  1.000000\n",
       "17     glass    magician             0.11  0.125000   2.282647  0.214168\n",
       "18   journey         car             1.16  0.055556  -0.000000 -0.000000\n",
       "19   journey      voyage             3.84  0.500000   6.825958  0.777715\n",
       "20       lad     brother             1.66  0.200000   2.333545  0.255175\n",
       "21       lad      wizard             0.42  0.200000   2.333545  0.255091\n",
       "22  magician      wizard              3.5  1.000000  11.980693  1.000000\n",
       "23    midday        noon             3.42  1.000000  11.064403  1.000000\n",
       "24      monk      oracle              1.1  0.125000   2.333545  0.225652\n",
       "25      monk       slave             0.55  0.200000   2.333545  0.254311\n",
       "26      noon      string             0.08  0.083333   0.596229  0.066172\n",
       "27   rooster      voyage             0.08  0.041667  -0.000000 -0.000000\n",
       "28     shore    woodland             0.63  0.200000   1.290026  0.135583\n",
       "29      tool   implement             1.68  0.500000   5.877389  0.947154"
      ]
     },
     "execution_count": 12,
     "metadata": {},
     "output_type": "execute_result"
    }
   ],
   "source": [
    "measures=[\"path\",\"res\",\"lin\"]\n",
    "for measure in measures:\n",
    "    scores=[]\n",
    "\n",
    "    for i,triple in enumerate(mcdata):\n",
    "        scores.append(wnsimilarity(triple[0],triple[1],metric=measure))\n",
    "    df[measure]=scores\n",
    "    \n",
    "df"
   ]
  },
  {
   "cell_type": "markdown",
   "metadata": {},
   "source": [
    "### 3.3\n",
    "I haven't actually asked for a scatter plot but it is always good to generate one when thinking about correlation."
   ]
  },
  {
   "cell_type": "code",
   "execution_count": 13,
   "metadata": {},
   "outputs": [
    {
     "data": {
      "image/png": "[encoded data removed]",
      "text/plain": [
       "<Figure size 432x288 with 1 Axes>"
      ]
     },
     "metadata": {
      "needs_background": "light"
     },
     "output_type": "display_data"
    }
   ],
   "source": [
    "%matplotlib inline  \n",
    "#need this somewhere so the plots are generated in the notebook\n",
    "\n",
    "x=\"human similarity\"\n",
    "y=\"path\"\n",
    "def draw_scatter(x,y):\n",
    "\n",
    "    df[x]=df[x].map(float)\n",
    "    df[y]=df[y].map(float)\n",
    "    \n",
    "    df.plot.scatter(x,y)\n",
    "draw_scatter(x,y)"
   ]
  },
  {
   "cell_type": "code",
   "execution_count": 14,
   "metadata": {},
   "outputs": [
    {
     "data": {
      "text/html": [
       "<div>\n",
       "<style scoped>\n",
       "    .dataframe tbody tr th:only-of-type {\n",
       "        vertical-align: middle;\n",
       "    }\n",
       "\n",
       "    .dataframe tbody tr th {\n",
       "        vertical-align: top;\n",
       "    }\n",
       "\n",
       "    .dataframe thead th {\n",
       "        text-align: right;\n",
       "    }\n",
       "</style>\n",
       "<table border=\"1\" class=\"dataframe\">\n",
       "  <thead>\n",
       "    <tr style=\"text-align: right;\">\n",
       "      <th></th>\n",
       "      <th>human similarity</th>\n",
       "      <th>path</th>\n",
       "      <th>res</th>\n",
       "      <th>lin</th>\n",
       "    </tr>\n",
       "  </thead>\n",
       "  <tbody>\n",
       "    <tr>\n",
       "      <th>human similarity</th>\n",
       "      <td>1.000000</td>\n",
       "      <td>0.722743</td>\n",
       "      <td>0.735945</td>\n",
       "      <td>0.753510</td>\n",
       "    </tr>\n",
       "    <tr>\n",
       "      <th>path</th>\n",
       "      <td>0.722743</td>\n",
       "      <td>1.000000</td>\n",
       "      <td>0.900648</td>\n",
       "      <td>0.945509</td>\n",
       "    </tr>\n",
       "    <tr>\n",
       "      <th>res</th>\n",
       "      <td>0.735945</td>\n",
       "      <td>0.900648</td>\n",
       "      <td>1.000000</td>\n",
       "      <td>0.962707</td>\n",
       "    </tr>\n",
       "    <tr>\n",
       "      <th>lin</th>\n",
       "      <td>0.753510</td>\n",
       "      <td>0.945509</td>\n",
       "      <td>0.962707</td>\n",
       "      <td>1.000000</td>\n",
       "    </tr>\n",
       "  </tbody>\n",
       "</table>\n",
       "</div>"
      ],
      "text/plain": [
       "                  human similarity      path       res       lin\n",
       "human similarity          1.000000  0.722743  0.735945  0.753510\n",
       "path                      0.722743  1.000000  0.900648  0.945509\n",
       "res                       0.735945  0.900648  1.000000  0.962707\n",
       "lin                       0.753510  0.945509  0.962707  1.000000"
      ]
     },
     "execution_count": 14,
     "metadata": {},
     "output_type": "execute_result"
    }
   ],
   "source": [
    "df.corr(method='spearman')"
   ]
  },
  {
   "cell_type": "markdown",
   "metadata": {},
   "source": [
    "### 3.4\n",
    "* Correlation is generally high / low?\n",
    "* Highest correlation is between ....\n",
    "* Highest correlation between a wordnet measure and human synonymy judgements is for ...\n",
    "* Differences are small / large?  Are they significant?  Think about size of sample"
   ]
  },
  {
   "cell_type": "markdown",
   "metadata": {},
   "source": [
    "## 4 Distributional Similarity"
   ]
  },
  {
   "cell_type": "code",
   "execution_count": 15,
   "metadata": {},
   "outputs": [],
   "source": [
    "from gensim.models import KeyedVectors"
   ]
  },
  {
   "cell_type": "code",
   "execution_count": 16,
   "metadata": {},
   "outputs": [
    {
     "ename": "KeyboardInterrupt",
     "evalue": "",
     "output_type": "error",
     "traceback": [
      "\u001b[0;31m---------------------------------------------------------------------------\u001b[0m",
      "\u001b[0;31mKeyboardInterrupt\u001b[0m                         Traceback (most recent call last)",
      "\u001b[0;32m<ipython-input-16-9a93576fc3fb>\u001b[0m in \u001b[0;36m<module>\u001b[0;34m\u001b[0m\n\u001b[1;32m      1\u001b[0m \u001b[0mfilename\u001b[0m\u001b[0;34m=\u001b[0m\u001b[0;34m\"GoogleNews-vectors-negative300.bin\"\u001b[0m\u001b[0;34m\u001b[0m\u001b[0;34m\u001b[0m\u001b[0m\n\u001b[0;32m----> 2\u001b[0;31m \u001b[0mmymodel\u001b[0m \u001b[0;34m=\u001b[0m\u001b[0mKeyedVectors\u001b[0m\u001b[0;34m.\u001b[0m\u001b[0mload_word2vec_format\u001b[0m\u001b[0;34m(\u001b[0m\u001b[0mfilename\u001b[0m\u001b[0;34m,\u001b[0m\u001b[0mbinary\u001b[0m\u001b[0;34m=\u001b[0m\u001b[0;32mTrue\u001b[0m\u001b[0;34m)\u001b[0m\u001b[0;34m\u001b[0m\u001b[0;34m\u001b[0m\u001b[0m\n\u001b[0m",
      "\u001b[0;32m~/opt/anaconda3/lib/python3.7/site-packages/gensim/models/keyedvectors.py\u001b[0m in \u001b[0;36mload_word2vec_format\u001b[0;34m(cls, fname, fvocab, binary, encoding, unicode_errors, limit, datatype)\u001b[0m\n\u001b[1;32m   1117\u001b[0m         return _load_word2vec_format(\n\u001b[1;32m   1118\u001b[0m             \u001b[0mWord2VecKeyedVectors\u001b[0m\u001b[0;34m,\u001b[0m \u001b[0mfname\u001b[0m\u001b[0;34m,\u001b[0m \u001b[0mfvocab\u001b[0m\u001b[0;34m=\u001b[0m\u001b[0mfvocab\u001b[0m\u001b[0;34m,\u001b[0m \u001b[0mbinary\u001b[0m\u001b[0;34m=\u001b[0m\u001b[0mbinary\u001b[0m\u001b[0;34m,\u001b[0m \u001b[0mencoding\u001b[0m\u001b[0;34m=\u001b[0m\u001b[0mencoding\u001b[0m\u001b[0;34m,\u001b[0m \u001b[0municode_errors\u001b[0m\u001b[0;34m=\u001b[0m\u001b[0municode_errors\u001b[0m\u001b[0;34m,\u001b[0m\u001b[0;34m\u001b[0m\u001b[0;34m\u001b[0m\u001b[0m\n\u001b[0;32m-> 1119\u001b[0;31m             limit=limit, datatype=datatype)\n\u001b[0m\u001b[1;32m   1120\u001b[0m \u001b[0;34m\u001b[0m\u001b[0m\n\u001b[1;32m   1121\u001b[0m     \u001b[0;32mdef\u001b[0m \u001b[0mget_keras_embedding\u001b[0m\u001b[0;34m(\u001b[0m\u001b[0mself\u001b[0m\u001b[0;34m,\u001b[0m \u001b[0mtrain_embeddings\u001b[0m\u001b[0;34m=\u001b[0m\u001b[0;32mFalse\u001b[0m\u001b[0;34m)\u001b[0m\u001b[0;34m:\u001b[0m\u001b[0;34m\u001b[0m\u001b[0;34m\u001b[0m\u001b[0m\n",
      "\u001b[0;32m~/opt/anaconda3/lib/python3.7/site-packages/gensim/models/utils_any2vec.py\u001b[0m in \u001b[0;36m_load_word2vec_format\u001b[0;34m(cls, fname, fvocab, binary, encoding, unicode_errors, limit, datatype)\u001b[0m\n\u001b[1;32m    204\u001b[0m                 \u001b[0mword\u001b[0m \u001b[0;34m=\u001b[0m \u001b[0;34m[\u001b[0m\u001b[0;34m]\u001b[0m\u001b[0;34m\u001b[0m\u001b[0;34m\u001b[0m\u001b[0m\n\u001b[1;32m    205\u001b[0m                 \u001b[0;32mwhile\u001b[0m \u001b[0;32mTrue\u001b[0m\u001b[0;34m:\u001b[0m\u001b[0;34m\u001b[0m\u001b[0;34m\u001b[0m\u001b[0m\n\u001b[0;32m--> 206\u001b[0;31m                     \u001b[0mch\u001b[0m \u001b[0;34m=\u001b[0m \u001b[0mfin\u001b[0m\u001b[0;34m.\u001b[0m\u001b[0mread\u001b[0m\u001b[0;34m(\u001b[0m\u001b[0;36m1\u001b[0m\u001b[0;34m)\u001b[0m\u001b[0;34m\u001b[0m\u001b[0;34m\u001b[0m\u001b[0m\n\u001b[0m\u001b[1;32m    207\u001b[0m                     \u001b[0;32mif\u001b[0m \u001b[0mch\u001b[0m \u001b[0;34m==\u001b[0m \u001b[0;34mb' '\u001b[0m\u001b[0;34m:\u001b[0m\u001b[0;34m\u001b[0m\u001b[0;34m\u001b[0m\u001b[0m\n\u001b[1;32m    208\u001b[0m                         \u001b[0;32mbreak\u001b[0m\u001b[0;34m\u001b[0m\u001b[0;34m\u001b[0m\u001b[0m\n",
      "\u001b[0;31mKeyboardInterrupt\u001b[0m: "
     ]
    }
   ],
   "source": [
    "filename=\"GoogleNews-vectors-negative300.bin\"\n",
    "mymodel =KeyedVectors.load_word2vec_format(filename,binary=True)"
   ]
  },
  {
   "cell_type": "code",
   "execution_count": null,
   "metadata": {},
   "outputs": [],
   "source": [
    "mymodel.similarity('man','woman')"
   ]
  },
  {
   "cell_type": "code",
   "execution_count": null,
   "metadata": {},
   "outputs": [],
   "source": [
    "mymodel.most_similar(positive=['man'])"
   ]
  },
  {
   "cell_type": "code",
   "execution_count": null,
   "metadata": {},
   "outputs": [],
   "source": [
    "mymodel.similarity('noon','string')"
   ]
  },
  {
   "cell_type": "code",
   "execution_count": null,
   "metadata": {},
   "outputs": [],
   "source": [
    "mymodel['man']"
   ]
  },
  {
   "cell_type": "markdown",
   "metadata": {},
   "source": [
    "## 4.1"
   ]
  },
  {
   "cell_type": "code",
   "execution_count": null,
   "metadata": {},
   "outputs": [],
   "source": [
    "scores=[]\n",
    "for i,triple in enumerate(mcdata):\n",
    "    scores.append(mymodel.similarity(triple[0],triple[1]))\n",
    "df[\"word2vec\"]=scores\n",
    "    \n",
    "df"
   ]
  },
  {
   "cell_type": "code",
   "execution_count": null,
   "metadata": {},
   "outputs": [],
   "source": [
    "\n",
    "x=\"human similarity\"\n",
    "y=\"word2vec\"\n",
    "def draw_scatter(x,y):\n",
    "\n",
    "    df[x]=df[x].map(float)\n",
    "    df[y]=df[y].map(float)\n",
    "    \n",
    "    df.plot.scatter(x,y)\n",
    "draw_scatter(x,y)"
   ]
  },
  {
   "cell_type": "code",
   "execution_count": null,
   "metadata": {},
   "outputs": [],
   "source": [
    "df.corr(method='spearman')"
   ]
  },
  {
   "cell_type": "markdown",
   "metadata": {},
   "source": [
    "### 4.2\n",
    "* Which measure has the highest correlation with human synonymy judgements now?"
   ]
  },
  {
   "cell_type": "markdown",
   "metadata": {},
   "source": [
    "## 5 Extension\n",
    "I don't expect many students to get onto this.   However, some might - especially if they have reused functions for wordnet similarity that they created during NLE and / or are very keen / interested in the statistical significance aspects.\n",
    "\n",
    "First, make a scatter plot for different pairs of variables.  See above for basic example using pandas.  However, here I am going to use seaborn because it is really easy to plot the regression line.\n",
    "\n",
    "I am just going to work through the word2vec vs human similarity case but obviously it can be done with any of the pairs of measures.\n"
   ]
  },
  {
   "cell_type": "code",
   "execution_count": 17,
   "metadata": {},
   "outputs": [
    {
     "data": {
      "image/png": "[encoded data removed]",
      "text/plain": [
       "<Figure size 432x288 with 1 Axes>"
      ]
     },
     "metadata": {
      "needs_background": "light"
     },
     "output_type": "display_data"
    }
   ],
   "source": [
    "import seaborn as sns\n",
    "x=\"human similarity\"\n",
    "y=\"lin\"\n",
    "def draw_scatter(x,y):\n",
    "\n",
    "    df[x]=df[x].map(float)\n",
    "    df[y]=df[y].map(float)\n",
    "    \n",
    "    sns.regplot(x=df[x],y=df[y])\n",
    "draw_scatter(x,y)"
   ]
  },
  {
   "cell_type": "markdown",
   "metadata": {},
   "source": [
    "Correlation coefficients with p-values can be calculated using scipy.stats (spearmanr is better than pearsonr for this type of data - why?)"
   ]
  },
  {
   "cell_type": "code",
   "execution_count": 18,
   "metadata": {},
   "outputs": [
    {
     "data": {
      "text/plain": [
       "SpearmanrResult(correlation=0.7535104398162412, pvalue=1.537645680941842e-06)"
      ]
     },
     "execution_count": 18,
     "metadata": {},
     "output_type": "execute_result"
    }
   ],
   "source": [
    "import scipy.stats as stats\n",
    "stats.spearmanr(df[x],df[y])"
   ]
  },
  {
   "cell_type": "markdown",
   "metadata": {},
   "source": [
    "Whilst not essential, worth knowing that you can add text to a graph by using the text() method.  Also, use the string formatting functions to sort out the number of decimal places displayed."
   ]
  },
  {
   "cell_type": "code",
   "execution_count": 19,
   "metadata": {},
   "outputs": [
    {
     "data": {
      "image/png": "[encoded data removed]",
      "text/plain": [
       "<Figure size 432x288 with 1 Axes>"
      ]
     },
     "metadata": {
      "needs_background": "light"
     },
     "output_type": "display_data"
    }
   ],
   "source": [
    "\n",
    "x=\"human similarity\"\n",
    "y=\"lin\"\n",
    "def draw_scatter(x,y):\n",
    "\n",
    "    df[x]=df[x].map(float)\n",
    "    df[y]=df[y].map(float)\n",
    "    \n",
    "    ax=sns.regplot(x=df[x],y=df[y])\n",
    "    \n",
    "    r,p=stats.spearmanr(df[x],df[y])\n",
    "    ax.text(4.2, 0.6, \"Spearman {:.3f}, pvalue {:.3f}\".format(r,p))\n",
    "draw_scatter(x,y)"
   ]
  },
  {
   "cell_type": "markdown",
   "metadata": {},
   "source": [
    "The pvalue tells us the probability of getting this correlation coefficient if there was really no correlation between the two variables.  This probability is very small (<< 0.1%) so it is definitely \"significant\" - but that is significantly greater than zero.  It does not tell us anything about the difference between 2 correlation coefficients (is 0.786 significantly greater than 0.75?)\n",
    "\n",
    "### 5.3"
   ]
  },
  {
   "cell_type": "markdown",
   "metadata": {},
   "source": [
    "The correlation coefficient calculated with stats.lingregress() is Pearson's product-moment, but it does tell us the slope and intercept of the line of best fit.  I have also added this as text next to the graph."
   ]
  },
  {
   "cell_type": "code",
   "execution_count": 20,
   "metadata": {},
   "outputs": [
    {
     "data": {
      "text/plain": [
       "LinregressResult(slope=0.21316693388842692, intercept=0.0671859303046985, rvalue=0.803644338083903, pvalue=8.923071661975858e-08, stderr=0.029831431858643658, intercept_stderr=0.07103495982988775)"
      ]
     },
     "execution_count": 20,
     "metadata": {},
     "output_type": "execute_result"
    }
   ],
   "source": [
    "stats.linregress(df[x],df[y])"
   ]
  },
  {
   "cell_type": "code",
   "execution_count": 21,
   "metadata": {},
   "outputs": [
    {
     "data": {
      "image/png": "[encoded data removed]",
      "text/plain": [
       "<Figure size 432x288 with 1 Axes>"
      ]
     },
     "metadata": {
      "needs_background": "light"
     },
     "output_type": "display_data"
    }
   ],
   "source": [
    "import seaborn as sns\n",
    "\n",
    "def draw_scatter(x,y):\n",
    "\n",
    "    df[x]=df[x].map(float)\n",
    "    df[y]=df[y].map(float)\n",
    "    \n",
    "    ax=sns.regplot(x=df[x],y=df[y])\n",
    "    r,p=stats.spearmanr(df[x],df[y])\n",
    "    ax.text(4.2, 0.6, \"Spearman {:.3f}, pvalue {:.3f}\".format(r,p))\n",
    "    \n",
    "    (m,c,_r,_p,_s)=stats.linregress(df[x],df[y])\n",
    "    text=\"y={:.2f}x+{:.2f}\".format(m,c)\n",
    "    ax.text(4.2, 0.5, text)\n",
    "    \n",
    "    sns.regplot(x=df[x], y=df[y])\n",
    "\n",
    "    \n",
    "draw_scatter(x,y)"
   ]
  },
  {
   "cell_type": "markdown",
   "metadata": {},
   "source": [
    "### 5.4  basic bootstrapping\n",
    "Here, I use numpy.random to (repeatedly) create a random sample (with replacement) of the word pairs.  I then look up the appropriate similarity scores from the dataframe.  I calculate the correlation for each sample and store it in a list of correlations.  I sort the list and then find the appropriate percentiles in that list for the confidence interval required."
   ]
  },
  {
   "cell_type": "code",
   "execution_count": 24,
   "metadata": {},
   "outputs": [
    {
     "name": "stdout",
     "output_type": "stream",
     "text": [
      "99% confidence interval for Spearmanr between human similarity and lin y: [0.633,0.838]\n"
     ]
    }
   ],
   "source": [
    "from numpy.random import choice\n",
    "import math\n",
    "n=100\n",
    "repeats=1000\n",
    "interval=99\n",
    "indices=range(0,len(mcdata))\n",
    "\n",
    "\n",
    "correlation_list=[]\n",
    "for i in range(0,repeats):\n",
    "    sample = choice(indices,n)    \n",
    "    scores_x=[df[x][j] for j in sample]\n",
    "    scores_y=[df[y][j] for j in sample]\n",
    "    correlation_list.append(stats.spearmanr(scores_x,scores_y)[0])\n",
    "\n",
    "    \n",
    "sorted_list=sorted(correlation_list)\n",
    "p=(100-interval)/2\n",
    "index1=math.floor(p*repeats/100)\n",
    "index2=repeats-index1\n",
    "\n",
    "lower=sorted_list[index1]\n",
    "upper=sorted_list[index2]\n",
    "\n",
    "print(\"{}% confidence interval for Spearmanr between {} and {} y: [{:.3f},{:.3f}]\".format(interval,x,y,lower, upper))\n"
   ]
  },
  {
   "cell_type": "markdown",
   "metadata": {},
   "source": [
    "Even without calculating confidence intervals for the other measures, we can see that they will overlap.  Therefore, the differences between the correlation coefficients are not statistically significant at the 95% level."
   ]
  },
  {
   "cell_type": "code",
   "execution_count": null,
   "metadata": {},
   "outputs": [],
   "source": []
  }
 ],
 "metadata": {
  "kernelspec": {
   "display_name": "Python 3",
   "language": "python",
   "name": "python3"
  },
  "language_info": {
   "codemirror_mode": {
    "name": "ipython",
    "version": 3
   },
   "file_extension": ".py",
   "mimetype": "text/x-python",
   "name": "python",
   "nbconvert_exporter": "python",
   "pygments_lexer": "ipython3",
   "version": "3.7.4"
  }
 },
 "nbformat": 4,
 "nbformat_minor": 2
}
